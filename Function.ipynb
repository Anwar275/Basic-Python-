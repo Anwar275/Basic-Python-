{
  "nbformat": 4,
  "nbformat_minor": 0,
  "metadata": {
    "colab": {
      "provenance": []
    },
    "kernelspec": {
      "name": "python3",
      "display_name": "Python 3"
    },
    "language_info": {
      "name": "python"
    }
  },
  "cells": [
    {
      "cell_type": "code",
      "execution_count": null,
      "metadata": {
        "colab": {
          "base_uri": "https://localhost:8080/"
        },
        "id": "MqmlzUzXrgCY",
        "outputId": "e96bd8e8-29a1-44fc-ddbe-082c0ba67228"
      },
      "outputs": [
        {
          "output_type": "stream",
          "name": "stdout",
          "text": [
            "30\n"
          ]
        }
      ],
      "source": [
        "def summation(a,b):\n",
        "  sum= a+b\n",
        "  print(sum)\n",
        "summation(10,20)"
      ]
    },
    {
      "cell_type": "code",
      "source": [
        "def summation(a,b):\n",
        "  sum=a+b\n",
        "  print(sum)\n",
        "result=summation(10,20)\n"
      ],
      "metadata": {
        "colab": {
          "base_uri": "https://localhost:8080/"
        },
        "id": "wqsm4MEJsFXQ",
        "outputId": "5a6d4e01-0b69-4c10-b39e-61704a2424de"
      },
      "execution_count": null,
      "outputs": [
        {
          "output_type": "stream",
          "name": "stdout",
          "text": [
            "30\n"
          ]
        }
      ]
    },
    {
      "cell_type": "code",
      "source": [
        "result"
      ],
      "metadata": {
        "id": "LCF5-zZXsdLY"
      },
      "execution_count": null,
      "outputs": []
    },
    {
      "cell_type": "code",
      "source": [
        "def summation(a,b):\n",
        "  sum=a+b\n",
        "  return(sum) #return funtion used only for storing data on varaibale \n",
        "result=summation(10,20)"
      ],
      "metadata": {
        "id": "zJqXsbcptP3S"
      },
      "execution_count": null,
      "outputs": []
    },
    {
      "cell_type": "code",
      "source": [
        "result"
      ],
      "metadata": {
        "colab": {
          "base_uri": "https://localhost:8080/"
        },
        "id": "dNgEhX3ftpG9",
        "outputId": "6148e83c-02fc-47c2-e27b-6d925947007c"
      },
      "execution_count": null,
      "outputs": [
        {
          "output_type": "execute_result",
          "data": {
            "text/plain": [
              "30"
            ]
          },
          "metadata": {},
          "execution_count": 5
        }
      ]
    },
    {
      "cell_type": "code",
      "source": [
        "def calculation(a,b):\n",
        "  sum=a+b\n",
        "  mul=a*b\n",
        "  return(sum,mul)\n",
        "result1,result2=calculation(10,20)"
      ],
      "metadata": {
        "id": "DnryIS1UtqrD"
      },
      "execution_count": null,
      "outputs": []
    },
    {
      "cell_type": "code",
      "source": [
        "result1"
      ],
      "metadata": {
        "colab": {
          "base_uri": "https://localhost:8080/"
        },
        "id": "xsALAIjdt980",
        "outputId": "64b06a66-ba25-4a77-fabb-95f54e29ffc1"
      },
      "execution_count": null,
      "outputs": [
        {
          "output_type": "execute_result",
          "data": {
            "text/plain": [
              "30"
            ]
          },
          "metadata": {},
          "execution_count": 7
        }
      ]
    },
    {
      "cell_type": "code",
      "source": [
        "result2"
      ],
      "metadata": {
        "colab": {
          "base_uri": "https://localhost:8080/"
        },
        "id": "IUD9iat3t_rG",
        "outputId": "1e6e3481-bc6c-41c3-8e63-554e7b5f4fbf"
      },
      "execution_count": null,
      "outputs": [
        {
          "output_type": "execute_result",
          "data": {
            "text/plain": [
              "200"
            ]
          },
          "metadata": {},
          "execution_count": 8
        }
      ]
    },
    {
      "cell_type": "code",
      "source": [
        "def summation(a,b):\n",
        "  sum=a+b\n",
        "  mul=a*b\n",
        "  return(sum,mul) #return funtion used only for storing data on varaibale \n",
        "summation(10,20)"
      ],
      "metadata": {
        "colab": {
          "base_uri": "https://localhost:8080/"
        },
        "id": "giBy_kVtuA38",
        "outputId": "e9278b82-f43c-4bcc-d66a-ddde274cd438"
      },
      "execution_count": null,
      "outputs": [
        {
          "output_type": "execute_result",
          "data": {
            "text/plain": [
              "(30, 200)"
            ]
          },
          "metadata": {},
          "execution_count": 11
        }
      ]
    },
    {
      "cell_type": "code",
      "source": [
        "def is_even_or_odd(n):\n",
        "  if n%2==0:\n",
        "    s='even'\n",
        "  else:\n",
        "    s='odd'\n",
        "  return(s)"
      ],
      "metadata": {
        "id": "d4VCpfR8uWjT"
      },
      "execution_count": null,
      "outputs": []
    },
    {
      "cell_type": "code",
      "source": [
        "result=is_even_or_odd(11)"
      ],
      "metadata": {
        "id": "ZPMpMlFU5PKD"
      },
      "execution_count": null,
      "outputs": []
    },
    {
      "cell_type": "code",
      "source": [
        "result"
      ],
      "metadata": {
        "colab": {
          "base_uri": "https://localhost:8080/",
          "height": 35
        },
        "id": "HNo2VcXO5Vaa",
        "outputId": "6a7fffb0-be13-4eb2-8b54-16e56f079d4f"
      },
      "execution_count": null,
      "outputs": [
        {
          "output_type": "execute_result",
          "data": {
            "application/vnd.google.colaboratory.intrinsic+json": {
              "type": "string"
            },
            "text/plain": [
              "'odd'"
            ]
          },
          "metadata": {},
          "execution_count": 7
        }
      ]
    },
    {
      "cell_type": "code",
      "source": [
        "list2=[(2,5),(1,2),(4,4),(2,3),(2,1)]\n",
        "list3=[]\n",
        "for i in list2:\n",
        "  list3.append((i[1],i[0]))"
      ],
      "metadata": {
        "id": "v_gr9S2r5_Kj"
      },
      "execution_count": null,
      "outputs": []
    },
    {
      "cell_type": "code",
      "source": [
        "list3.sort()\n",
        "list3"
      ],
      "metadata": {
        "colab": {
          "base_uri": "https://localhost:8080/"
        },
        "id": "11py8qPPBx_R",
        "outputId": "3094b39b-3342-4d19-e116-4166c177a612"
      },
      "execution_count": null,
      "outputs": [
        {
          "output_type": "execute_result",
          "data": {
            "text/plain": [
              "[(1, 2), (2, 1), (3, 2), (4, 4), (5, 2)]"
            ]
          },
          "metadata": {},
          "execution_count": 13
        }
      ]
    },
    {
      "cell_type": "code",
      "source": [
        "list4=[]\n",
        "for a in list3:\n",
        "  list4.append((a[1],a[0]))"
      ],
      "metadata": {
        "id": "EHjmTe7pCKu_"
      },
      "execution_count": null,
      "outputs": []
    },
    {
      "cell_type": "code",
      "source": [
        "list4"
      ],
      "metadata": {
        "colab": {
          "base_uri": "https://localhost:8080/"
        },
        "id": "6mXtCjr5ChuV",
        "outputId": "a3644f0b-7e3a-44c9-b09d-cb3cd8af733f"
      },
      "execution_count": null,
      "outputs": [
        {
          "output_type": "execute_result",
          "data": {
            "text/plain": [
              "[(2, 1), (1, 2), (2, 3), (4, 4), (2, 5)]"
            ]
          },
          "metadata": {},
          "execution_count": 17
        }
      ]
    },
    {
      "cell_type": "code",
      "source": [
        "def reverse_tuple(list_of_tuple):\n",
        "  list3=[]\n",
        "  for i in list_of_tuple:\n",
        "    list3.append((i[1],i[0]))\n",
        "  return list3\n",
        "\n",
        "list2=[(2,5),(1,2),(4,4),(2,3),(2,1)]\n",
        "result=reverse_tuple(list2)\n",
        "result.sort()\n",
        "result=reverse_tuple(result)"
      ],
      "metadata": {
        "id": "m-kR9oysCi6G"
      },
      "execution_count": null,
      "outputs": []
    },
    {
      "cell_type": "code",
      "source": [
        "result"
      ],
      "metadata": {
        "colab": {
          "base_uri": "https://localhost:8080/"
        },
        "id": "ZKUWa56BFlkY",
        "outputId": "b2d9433b-a605-45da-bf0e-860823fd1d50"
      },
      "execution_count": null,
      "outputs": [
        {
          "output_type": "execute_result",
          "data": {
            "text/plain": [
              "[(2, 1), (1, 2), (2, 3), (4, 4), (2, 5)]"
            ]
          },
          "metadata": {},
          "execution_count": 26
        }
      ]
    },
    {
      "cell_type": "code",
      "source": [
        "def disp():\n",
        "  name=\"Geekyshows\"\n",
        "  print(\"welcome to\",name)\n",
        "disp()\n",
        "disp()"
      ],
      "metadata": {
        "id": "cHNnUnuIGNNY",
        "colab": {
          "base_uri": "https://localhost:8080/"
        },
        "outputId": "50a56c1f-5482-4e8d-c696-24be33741b5b"
      },
      "execution_count": null,
      "outputs": [
        {
          "output_type": "stream",
          "name": "stdout",
          "text": [
            "welcome to Geekyshows\n",
            "welcome to Geekyshows\n"
          ]
        }
      ]
    },
    {
      "cell_type": "code",
      "source": [
        "def add():\n",
        "  x=10\n",
        "  y=20\n",
        "  c=x+y\n",
        "  print(c)\n",
        "add()"
      ],
      "metadata": {
        "colab": {
          "base_uri": "https://localhost:8080/"
        },
        "id": "W0lwP6HLE58l",
        "outputId": "1bc71561-6894-42ed-8c78-39e05e2fe8c9"
      },
      "execution_count": null,
      "outputs": [
        {
          "output_type": "stream",
          "name": "stdout",
          "text": [
            "30\n"
          ]
        }
      ]
    },
    {
      "cell_type": "code",
      "source": [
        "def sub():\n",
        "  x=10\n",
        "  y=20\n",
        "  c=y-x\n",
        "  print(c)\n",
        "sub()"
      ],
      "metadata": {
        "colab": {
          "base_uri": "https://localhost:8080/"
        },
        "id": "o7b1uNjmFc4y",
        "outputId": "01c6f8f1-d9cd-405f-9769-9a625ce34594"
      },
      "execution_count": null,
      "outputs": [
        {
          "output_type": "stream",
          "name": "stdout",
          "text": [
            "10\n"
          ]
        }
      ]
    },
    {
      "cell_type": "code",
      "source": [
        "def calc(a,b):\n",
        "  sum=a+b\n",
        "  sub=a-b\n",
        "  print(\"total sum\",sum,\", total sub\",sub)\n",
        "calc(20,10)"
      ],
      "metadata": {
        "colab": {
          "base_uri": "https://localhost:8080/"
        },
        "id": "-j9el6u9Fu8M",
        "outputId": "e74ab874-aadd-4166-c7c2-253e53b2bdd5"
      },
      "execution_count": null,
      "outputs": [
        {
          "output_type": "stream",
          "name": "stdout",
          "text": [
            "total sum 30 , total sub 10\n"
          ]
        }
      ]
    },
    {
      "cell_type": "code",
      "source": [
        "def calc(a,b):\n",
        "  sum=a+b\n",
        "  sub=a-b\n",
        "  return(sum,sub)\n",
        "result1,result2=calc(20,10)"
      ],
      "metadata": {
        "id": "WWNKzzE-G24P"
      },
      "execution_count": null,
      "outputs": []
    },
    {
      "cell_type": "code",
      "source": [
        "result1"
      ],
      "metadata": {
        "colab": {
          "base_uri": "https://localhost:8080/"
        },
        "id": "960YTRGPIuis",
        "outputId": "a538c84c-be5e-425f-9f8b-58cb6c55382b"
      },
      "execution_count": null,
      "outputs": [
        {
          "output_type": "execute_result",
          "data": {
            "text/plain": [
              "30"
            ]
          },
          "metadata": {},
          "execution_count": 18
        }
      ]
    },
    {
      "cell_type": "code",
      "source": [
        "result2"
      ],
      "metadata": {
        "colab": {
          "base_uri": "https://localhost:8080/"
        },
        "id": "tqpoXbafIwOK",
        "outputId": "0067bd1a-8ac3-4e95-a7c0-160a451d4c2a"
      },
      "execution_count": null,
      "outputs": [
        {
          "output_type": "execute_result",
          "data": {
            "text/plain": [
              "10"
            ]
          },
          "metadata": {},
          "execution_count": 19
        }
      ]
    },
    {
      "cell_type": "code",
      "source": [
        "def calc(a,b):\n",
        "  sum=a+b\n",
        "  sub=a-b\n",
        "  return(sum,sub)\n",
        "result1,result2=calc(20,10)"
      ],
      "metadata": {
        "id": "bjcdTeyfIxmP"
      },
      "execution_count": null,
      "outputs": []
    },
    {
      "cell_type": "code",
      "source": [
        "result1"
      ],
      "metadata": {
        "colab": {
          "base_uri": "https://localhost:8080/"
        },
        "id": "xtW79rDKJP5x",
        "outputId": "0abd067a-8a66-4e10-88d4-3e5d8a3191fe"
      },
      "execution_count": null,
      "outputs": [
        {
          "output_type": "execute_result",
          "data": {
            "text/plain": [
              "30"
            ]
          },
          "metadata": {},
          "execution_count": 21
        }
      ]
    },
    {
      "cell_type": "code",
      "source": [
        "result2"
      ],
      "metadata": {
        "colab": {
          "base_uri": "https://localhost:8080/"
        },
        "id": "ThkM0rjrJRp7",
        "outputId": "f873f2eb-c1ae-4c1a-def5-df27675b594a"
      },
      "execution_count": null,
      "outputs": [
        {
          "output_type": "execute_result",
          "data": {
            "text/plain": [
              "10"
            ]
          },
          "metadata": {},
          "execution_count": 22
        }
      ]
    },
    {
      "cell_type": "code",
      "source": [
        "def is_even_or_odd(n):\n",
        "  if n%2==0:\n",
        "    s=\"even\"\n",
        "  else:\n",
        "    s=\"odd\"\n",
        "  return(s)\n",
        "answer=is_even_or_odd(11)"
      ],
      "metadata": {
        "id": "4RqA68ygJS2k"
      },
      "execution_count": null,
      "outputs": []
    },
    {
      "cell_type": "code",
      "source": [
        "answer"
      ],
      "metadata": {
        "colab": {
          "base_uri": "https://localhost:8080/",
          "height": 35
        },
        "id": "PaPNAApzJ3sX",
        "outputId": "f9974d5f-bf6c-4a6a-f0f6-71ab8184c3ef"
      },
      "execution_count": null,
      "outputs": [
        {
          "output_type": "execute_result",
          "data": {
            "application/vnd.google.colaboratory.intrinsic+json": {
              "type": "string"
            },
            "text/plain": [
              "'odd'"
            ]
          },
          "metadata": {},
          "execution_count": 26
        }
      ]
    },
    {
      "cell_type": "code",
      "source": [],
      "metadata": {
        "id": "sW0oO9OLJ5_2"
      },
      "execution_count": null,
      "outputs": []
    }
  ]
}