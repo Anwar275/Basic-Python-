{
  "nbformat": 4,
  "nbformat_minor": 0,
  "metadata": {
    "colab": {
      "provenance": []
    },
    "kernelspec": {
      "name": "python3",
      "display_name": "Python 3"
    },
    "language_info": {
      "name": "python"
    }
  },
  "cells": [
    {
      "cell_type": "code",
      "execution_count": null,
      "metadata": {
        "colab": {
          "base_uri": "https://localhost:8080/"
        },
        "id": "A-k3pmu_Uw5s",
        "outputId": "09965848-3ab9-40d3-f3cd-b5337be21321"
      },
      "outputs": [
        {
          "output_type": "stream",
          "name": "stdout",
          "text": [
            "vehicle weight200\n",
            "road width5\n",
            "go to middle\n"
          ]
        }
      ],
      "source": [
        "#vehicle road select\n",
        "a=int(input(\"vehicle weight\"))\n",
        "b=int(input(\"road width\"))\n",
        "if 200>a>100 and b<5:\n",
        "  print(\"go to left\")\n",
        "elif a<100 and b>5:\n",
        "  print(\"go to right\")\n",
        "else:\n",
        "  print(\"go to middle\")"
      ]
    },
    {
      "cell_type": "code",
      "source": [
        "#put even numbers in a list\n",
        "list1=[1,2,2,3,4,5,8,10]\n",
        "list2=[]\n",
        "for i in list1:\n",
        "  if i%2==0:\n",
        "    list2.append(i)\n",
        "  else:\n",
        "    continue\n",
        "print(list2)"
      ],
      "metadata": {
        "colab": {
          "base_uri": "https://localhost:8080/"
        },
        "id": "9CEWx409V5jo",
        "outputId": "bea6ba36-529c-4ad3-a0e8-3e7b64884971"
      },
      "execution_count": null,
      "outputs": [
        {
          "output_type": "stream",
          "name": "stdout",
          "text": [
            "[2, 2, 4, 8, 10]\n"
          ]
        }
      ]
    },
    {
      "cell_type": "code",
      "source": [
        "list1=[1,2,3,4,5,6]\n",
        "list3=[i*3 for i in list1 if i%2!=0]"
      ],
      "metadata": {
        "id": "nLRoe7k6Xr5a"
      },
      "execution_count": null,
      "outputs": []
    },
    {
      "cell_type": "code",
      "source": [
        "list3"
      ],
      "metadata": {
        "colab": {
          "base_uri": "https://localhost:8080/"
        },
        "id": "D7IA0PWDYYWC",
        "outputId": "6a6aa387-a1e1-4ab0-9581-0322ea8f9171"
      },
      "execution_count": null,
      "outputs": [
        {
          "output_type": "execute_result",
          "data": {
            "text/plain": [
              "[3, 9, 15]"
            ]
          },
          "metadata": {},
          "execution_count": 7
        }
      ]
    },
    {
      "cell_type": "code",
      "source": [
        "#find the numbers between 0 to 100 divided by 13\n",
        "a=int(input())\n",
        "count=0\n",
        "for i in range(1,100):\n",
        "  if i%13==0:\n",
        "    print(i)\n",
        "    count=count+1\n",
        "    print(\"count\",count)\n",
        "  if count>=a:\n",
        "    break"
      ],
      "metadata": {
        "colab": {
          "base_uri": "https://localhost:8080/"
        },
        "id": "PEbX0H5AYZY1",
        "outputId": "ead7625f-3a40-43d7-ff01-d40901b77621"
      },
      "execution_count": null,
      "outputs": [
        {
          "output_type": "stream",
          "name": "stdout",
          "text": [
            "7\n",
            "13\n",
            "count 1\n",
            "26\n",
            "count 2\n",
            "39\n",
            "count 3\n",
            "52\n",
            "count 4\n",
            "65\n",
            "count 5\n",
            "78\n",
            "count 6\n",
            "91\n",
            "count 7\n"
          ]
        }
      ]
    },
    {
      "cell_type": "code",
      "source": [
        "#let's check whether a number is armstrong or not\n",
        "n='1634'\n",
        "sum=0\n",
        "for i in n:\n",
        "  i=int(i)**4\n",
        "  #print(i)\n",
        "  sum=sum+i\n",
        "  #print(sum)\n",
        "if sum==int(n):\n",
        "  print(\"n is an armstrong number\")\n",
        "else:\n",
        "  print(\"not an armstrong number\")"
      ],
      "metadata": {
        "colab": {
          "base_uri": "https://localhost:8080/"
        },
        "id": "XU7DbMfTaSZu",
        "outputId": "220c0af4-ac44-4080-85c2-d1c0c79fbf66"
      },
      "execution_count": null,
      "outputs": [
        {
          "output_type": "stream",
          "name": "stdout",
          "text": [
            "n is an armstrong number\n"
          ]
        }
      ]
    },
    {
      "cell_type": "code",
      "source": [
        "#find armstrong number between 0 to 500\n",
        "b=range(0,500)\n",
        "count=0\n",
        "for i in b:\n",
        "  sum=0\n",
        "  for a in str(i):\n",
        "    a=int(a)**3\n",
        "    sum=sum+a\n",
        "  if sum==int(i):\n",
        "     print(sum,\"armstrong\")\n",
        "     count=count+1\n",
        "     print(count)"
      ],
      "metadata": {
        "colab": {
          "base_uri": "https://localhost:8080/"
        },
        "id": "luQahkosbCtq",
        "outputId": "68e9757b-c363-4fc5-920d-4841800dbd25"
      },
      "execution_count": null,
      "outputs": [
        {
          "output_type": "stream",
          "name": "stdout",
          "text": [
            "0 armstrong\n",
            "1\n",
            "1 armstrong\n",
            "2\n",
            "153 armstrong\n",
            "3\n",
            "370 armstrong\n",
            "4\n",
            "371 armstrong\n",
            "5\n",
            "407 armstrong\n",
            "6\n"
          ]
        }
      ]
    },
    {
      "cell_type": "code",
      "source": [
        "count=0\n",
        "i=1\n",
        "while(count<5):\n",
        "  if i%13==0:\n",
        "    print(i)\n",
        "    count=count+1\n",
        "    print(count)\n",
        "  i=i+1"
      ],
      "metadata": {
        "colab": {
          "base_uri": "https://localhost:8080/"
        },
        "id": "PXq8joQAd_IM",
        "outputId": "ab3ccc0c-8ac2-4d1d-9708-b2998e53e331"
      },
      "execution_count": null,
      "outputs": [
        {
          "output_type": "stream",
          "name": "stdout",
          "text": [
            "13\n",
            "1\n",
            "26\n",
            "2\n",
            "39\n",
            "3\n",
            "52\n",
            "4\n",
            "65\n",
            "5\n"
          ]
        }
      ]
    },
    {
      "cell_type": "code",
      "source": [
        "#prime number\n",
        "num=int(input())\n",
        "count=0\n",
        "for i in range(1,num+1):\n",
        "  if num%i==0:\n",
        "    count=count+1\n",
        "if count==2:\n",
        "  print(num,'prime')\n",
        "else:\n",
        "  print(\"not prime\")"
      ],
      "metadata": {
        "colab": {
          "base_uri": "https://localhost:8080/"
        },
        "id": "Kl_FWNoDft08",
        "outputId": "5ef4809f-4d0c-4af6-da0c-03cfb84df277"
      },
      "execution_count": null,
      "outputs": [
        {
          "output_type": "stream",
          "name": "stdout",
          "text": [
            "7\n",
            "7 prime\n"
          ]
        }
      ]
    },
    {
      "cell_type": "code",
      "source": [
        "#find prime numbers between 0 to 99:\n",
        "#lower=int(input(\"lower value\"))\n",
        "#upper=int(input(\"upper value\"))\n",
        "for num in range(0,100):\n",
        "  if num>1:\n",
        "    for i in range(2,num):\n",
        "      if (num%i)==0:\n",
        "        break\n",
        "    else:\n",
        "      print(num)\n",
        "      \n",
        "      "
      ],
      "metadata": {
        "colab": {
          "base_uri": "https://localhost:8080/"
        },
        "id": "FYWbWWiTs4N3",
        "outputId": "65ba001e-4a45-4cd9-c0fa-e013a81c6fc9"
      },
      "execution_count": null,
      "outputs": [
        {
          "output_type": "stream",
          "name": "stdout",
          "text": [
            "2\n",
            "3\n",
            "5\n",
            "7\n",
            "11\n",
            "13\n",
            "17\n",
            "19\n",
            "23\n",
            "29\n",
            "31\n",
            "37\n",
            "41\n",
            "43\n",
            "47\n",
            "53\n",
            "59\n",
            "61\n",
            "67\n",
            "71\n",
            "73\n",
            "79\n",
            "83\n",
            "89\n",
            "97\n"
          ]
        }
      ]
    },
    {
      "cell_type": "markdown",
      "source": [
        "function\n"
      ],
      "metadata": {
        "id": "jEeEpEp1BmoI"
      }
    },
    {
      "cell_type": "code",
      "source": [
        "def numbers(a,b):\n",
        "  sum=a+b\n",
        "  mul=a*b\n",
        "  return(sum,mul)\n",
        "result1,result2=numbers(10,20)"
      ],
      "metadata": {
        "id": "J6rIH9j6Boow"
      },
      "execution_count": null,
      "outputs": []
    },
    {
      "cell_type": "code",
      "source": [
        "result1"
      ],
      "metadata": {
        "colab": {
          "base_uri": "https://localhost:8080/"
        },
        "id": "_ernTdQ5B4rp",
        "outputId": "6e9213f1-3838-4e00-f2ae-2c97753c50c2"
      },
      "execution_count": null,
      "outputs": [
        {
          "output_type": "execute_result",
          "data": {
            "text/plain": [
              "30"
            ]
          },
          "metadata": {},
          "execution_count": 57
        }
      ]
    },
    {
      "cell_type": "code",
      "source": [
        "result2"
      ],
      "metadata": {
        "colab": {
          "base_uri": "https://localhost:8080/"
        },
        "id": "-kwt866jCEx3",
        "outputId": "e95a8ee8-c9b9-4bce-fe66-7036c71cffdc"
      },
      "execution_count": null,
      "outputs": [
        {
          "output_type": "execute_result",
          "data": {
            "text/plain": [
              "200"
            ]
          },
          "metadata": {},
          "execution_count": 58
        }
      ]
    },
    {
      "cell_type": "code",
      "source": [
        "def is_even_or_odd(n):\n",
        "  if n%2==0:\n",
        "    s='even'\n",
        "  else:\n",
        "    s='odd'\n",
        "  return(s)\n",
        "is_even_or_odd(5)"
      ],
      "metadata": {
        "colab": {
          "base_uri": "https://localhost:8080/",
          "height": 35
        },
        "id": "DWtxqtQqCG3V",
        "outputId": "68326c6d-a082-4b9e-8651-f591dc84628f"
      },
      "execution_count": null,
      "outputs": [
        {
          "output_type": "execute_result",
          "data": {
            "text/plain": [
              "'odd'"
            ],
            "application/vnd.google.colaboratory.intrinsic+json": {
              "type": "string"
            }
          },
          "metadata": {},
          "execution_count": 59
        }
      ]
    },
    {
      "cell_type": "code",
      "source": [
        "list1=[1,3,5,4]\n",
        "sum=0\n",
        "for i in list1:\n",
        "   sum=sum+i\n",
        "print(sum)"
      ],
      "metadata": {
        "colab": {
          "base_uri": "https://localhost:8080/"
        },
        "id": "1tE5Bt5ADOcu",
        "outputId": "3b166a64-1327-48ab-fef0-7393cafdaf54"
      },
      "execution_count": null,
      "outputs": [
        {
          "output_type": "stream",
          "name": "stdout",
          "text": [
            "13\n"
          ]
        }
      ]
    },
    {
      "cell_type": "code",
      "source": [
        "list1=[1,3,5,4]\n",
        "mul=1\n",
        "for i in list1:\n",
        "   mul=mul*i\n",
        "print(mul)"
      ],
      "metadata": {
        "colab": {
          "base_uri": "https://localhost:8080/"
        },
        "id": "HRL3b86yD0Ta",
        "outputId": "74eca3d7-ab4c-4bbe-8536-2ab7130f6098"
      },
      "execution_count": null,
      "outputs": [
        {
          "output_type": "stream",
          "name": "stdout",
          "text": [
            "60\n"
          ]
        }
      ]
    },
    {
      "cell_type": "code",
      "source": [
        "list1=[1,3,5,4]\n",
        "max=list1[0]\n",
        "size=len(list1)\n",
        "for i in range(0,size):\n",
        "  if list1[i]>max:\n",
        "    max=list1[i]\n",
        "print(max)"
      ],
      "metadata": {
        "colab": {
          "base_uri": "https://localhost:8080/"
        },
        "id": "LWtmTgvyEAme",
        "outputId": "c16bc5b7-7155-4726-dde3-ca12619da55e"
      },
      "execution_count": null,
      "outputs": [
        {
          "output_type": "stream",
          "name": "stdout",
          "text": [
            "5\n"
          ]
        }
      ]
    },
    {
      "cell_type": "code",
      "source": [
        "list1=[1,3,5,4]\n",
        "min=list1[0]\n",
        "size=len(list1)\n",
        "for i in range(0,size):\n",
        "  if min>list1[i]:\n",
        "    min=list1[i]\n",
        "print(min)"
      ],
      "metadata": {
        "colab": {
          "base_uri": "https://localhost:8080/"
        },
        "id": "v6glcx16EVE3",
        "outputId": "aacc1896-153e-4d8c-9083-8520aa152ed9"
      },
      "execution_count": null,
      "outputs": [
        {
          "output_type": "stream",
          "name": "stdout",
          "text": [
            "1\n"
          ]
        }
      ]
    },
    {
      "cell_type": "code",
      "source": [
        "#5\n",
        "list1=['abc', 'xyz', 'aba', '1221']\n",
        "count=0\n",
        "for i in list1:\n",
        "  if len(i)>2 and i[0]==i[-1]:\n",
        "    print(i)\n",
        "    count=count+1\n",
        "print(count)"
      ],
      "metadata": {
        "colab": {
          "base_uri": "https://localhost:8080/"
        },
        "id": "i_1EVvWQG1wh",
        "outputId": "b63375ca-a056-49ac-8a97-860cfc2c9258"
      },
      "execution_count": null,
      "outputs": [
        {
          "output_type": "stream",
          "name": "stdout",
          "text": [
            "aba\n",
            "1221\n",
            "2\n"
          ]
        }
      ]
    },
    {
      "cell_type": "code",
      "source": [
        "#6\n",
        "list1=[(2, 5), (1, 2), (4, 4), (2, 3), (2, 1)]\n",
        "list2=[]\n",
        "for i in list1:\n",
        "  list2.append((i[1],i[0]))\n",
        "list2.sort()\n",
        "list2\n",
        "list3=[]\n",
        "for j in list2:\n",
        "  print(j)\n",
        "  list3.append((j[1],j[0]))\n",
        "list3\n",
        "\n",
        "  \n"
      ],
      "metadata": {
        "colab": {
          "base_uri": "https://localhost:8080/"
        },
        "id": "K2gUIA8h6JDO",
        "outputId": "ba2b4a6e-18f6-460e-e4ef-e776edf54ad9"
      },
      "execution_count": null,
      "outputs": [
        {
          "output_type": "stream",
          "name": "stdout",
          "text": [
            "(1, 2)\n",
            "(2, 1)\n",
            "(3, 2)\n",
            "(4, 4)\n",
            "(5, 2)\n"
          ]
        },
        {
          "output_type": "execute_result",
          "data": {
            "text/plain": [
              "[(2, 1), (1, 2), (2, 3), (4, 4), (2, 5)]"
            ]
          },
          "metadata": {},
          "execution_count": 25
        }
      ]
    },
    {
      "cell_type": "code",
      "source": [
        "#6\n",
        "def reverse_tuple(list_of_tuple):\n",
        "  list3=[]\n",
        "  for i in list_of_tuple:\n",
        "    list3.append((i[1],i[0]))\n",
        "  return(list3)\n",
        "list2=[(2, 5), (1, 2), (4, 4), (2, 3), (2, 1)]\n",
        "result=reverse_tuple(list2)\n",
        "result.sort()\n",
        "result=reverse_tuple(result)\n",
        "print(result)"
      ],
      "metadata": {
        "colab": {
          "base_uri": "https://localhost:8080/"
        },
        "id": "tYE6qkG09aXA",
        "outputId": "cee65e4e-9e1a-42c7-ec62-b34dfb6fb1a0"
      },
      "execution_count": null,
      "outputs": [
        {
          "output_type": "stream",
          "name": "stdout",
          "text": [
            "[(2, 1), (1, 2), (2, 3), (4, 4), (2, 5)]\n"
          ]
        }
      ]
    },
    {
      "cell_type": "code",
      "source": [
        "#7\n",
        "list1=[1,2,2,4,5,6,6,7]\n",
        "list2=[]\n",
        "for i in list1:\n",
        "  if i in list2:\n",
        "    pass\n",
        "  else:\n",
        "    list2.append(i)\n",
        "print(list2)"
      ],
      "metadata": {
        "colab": {
          "base_uri": "https://localhost:8080/"
        },
        "id": "Hrlhq7Oe_15J",
        "outputId": "b1fcd2e1-95ad-4388-c752-282efa293cfb"
      },
      "execution_count": null,
      "outputs": [
        {
          "output_type": "stream",
          "name": "stdout",
          "text": [
            "[1, 2, 4, 5, 6, 7]\n"
          ]
        }
      ]
    },
    {
      "cell_type": "code",
      "source": [
        "#8\n",
        "list1=[]\n",
        "if not list1:\n",
        "  print(\"empty\")"
      ],
      "metadata": {
        "colab": {
          "base_uri": "https://localhost:8080/"
        },
        "id": "nJClniy6AL3i",
        "outputId": "4316590c-cdcf-4f0b-b7ff-774bc25d8965"
      },
      "execution_count": null,
      "outputs": [
        {
          "output_type": "stream",
          "name": "stdout",
          "text": [
            "empty\n"
          ]
        }
      ]
    },
    {
      "cell_type": "code",
      "source": [
        "#10\n",
        "def words(n,str):\n",
        "  words_len=[]\n",
        "  txt=str.split()\n",
        "  print(txt)\n",
        "  for i in txt:\n",
        "    if len(i)>n:\n",
        "      words_len.append(i)\n",
        "  return(words_len)\n",
        "print(words(3,\"The quick brown lazy fox jump over the lazy dog\"))"
      ],
      "metadata": {
        "colab": {
          "base_uri": "https://localhost:8080/"
        },
        "id": "Aw4L2qZwD9FU",
        "outputId": "2198fa24-277e-4801-f335-6bad6f4df95e"
      },
      "execution_count": null,
      "outputs": [
        {
          "output_type": "stream",
          "name": "stdout",
          "text": [
            "['The', 'quick', 'brown', 'lazy', 'fox', 'jump', 'over', 'the', 'lazy', 'dog']\n",
            "['quick', 'brown', 'lazy', 'jump', 'over', 'lazy']\n"
          ]
        }
      ]
    },
    {
      "cell_type": "code",
      "source": [
        "#11\n",
        "list1=[1,2,3,4,5,6]\n",
        "list2=[1,7,8,9,10]\n",
        "for i in list1:\n",
        "  for j in list2:\n",
        "    if i==j:\n",
        "      print(True)"
      ],
      "metadata": {
        "colab": {
          "base_uri": "https://localhost:8080/"
        },
        "id": "3JBoEFZ5Fyp5",
        "outputId": "2d4f4a1f-371b-46fa-d28b-a8f4cdb26c6c"
      },
      "execution_count": null,
      "outputs": [
        {
          "output_type": "stream",
          "name": "stdout",
          "text": [
            "True\n"
          ]
        }
      ]
    },
    {
      "cell_type": "code",
      "source": [
        "#12\n",
        "list1=['Red', 'Green', 'White', 'Black', 'Pink', 'Yellow']\n",
        "list2=[]\n",
        "for i in range(len(list1)):\n",
        "  if i in (0,4,5):\n",
        "    pass\n",
        "  else:\n",
        "    list2.append(list1[i])\n",
        "print(list2)"
      ],
      "metadata": {
        "colab": {
          "base_uri": "https://localhost:8080/"
        },
        "id": "MPyJfRIWHKy6",
        "outputId": "cb47672d-b1d0-4900-b7b5-b1c7d0e99b5a"
      },
      "execution_count": null,
      "outputs": [
        {
          "output_type": "stream",
          "name": "stdout",
          "text": [
            "['Green', 'White', 'Black']\n"
          ]
        }
      ]
    },
    {
      "cell_type": "code",
      "source": [
        "list1=[1,2,3,4,5,6]\n",
        "for index,element in enumerate(list1):\n",
        "  print(index,element)\n"
      ],
      "metadata": {
        "colab": {
          "base_uri": "https://localhost:8080/"
        },
        "id": "7j_tYw0uK0kn",
        "outputId": "2f27dc46-d2ca-4012-a659-2aae555de4e1"
      },
      "execution_count": null,
      "outputs": [
        {
          "output_type": "stream",
          "name": "stdout",
          "text": [
            "0 1\n",
            "1 2\n",
            "2 3\n",
            "3 4\n",
            "4 5\n",
            "5 6\n"
          ]
        }
      ]
    },
    {
      "cell_type": "code",
      "source": [
        "#13\n",
        "a=3\n",
        "b=4\n",
        "c=6\n",
        "[[[('* '*a).split()]*b]*c]"
      ],
      "metadata": {
        "colab": {
          "base_uri": "https://localhost:8080/"
        },
        "id": "ZS7VQ8f_tjUm",
        "outputId": "b2127270-48bf-4a73-a9e0-027cc36beef4"
      },
      "execution_count": null,
      "outputs": [
        {
          "output_type": "execute_result",
          "data": {
            "text/plain": [
              "[[[['*', '*', '*'], ['*', '*', '*'], ['*', '*', '*'], ['*', '*', '*']],\n",
              "  [['*', '*', '*'], ['*', '*', '*'], ['*', '*', '*'], ['*', '*', '*']],\n",
              "  [['*', '*', '*'], ['*', '*', '*'], ['*', '*', '*'], ['*', '*', '*']],\n",
              "  [['*', '*', '*'], ['*', '*', '*'], ['*', '*', '*'], ['*', '*', '*']],\n",
              "  [['*', '*', '*'], ['*', '*', '*'], ['*', '*', '*'], ['*', '*', '*']],\n",
              "  [['*', '*', '*'], ['*', '*', '*'], ['*', '*', '*'], ['*', '*', '*']]]]"
            ]
          },
          "metadata": {},
          "execution_count": 4
        }
      ]
    },
    {
      "cell_type": "code",
      "source": [],
      "metadata": {
        "id": "0BmeJWvVuOBj"
      },
      "execution_count": null,
      "outputs": []
    }
  ]
}