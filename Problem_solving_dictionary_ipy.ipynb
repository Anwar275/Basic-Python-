{
  "nbformat": 4,
  "nbformat_minor": 0,
  "metadata": {
    "colab": {
      "provenance": []
    },
    "kernelspec": {
      "name": "python3",
      "display_name": "Python 3"
    },
    "language_info": {
      "name": "python"
    }
  },
  "cells": [
    {
      "cell_type": "code",
      "execution_count": null,
      "metadata": {
        "colab": {
          "base_uri": "https://localhost:8080/"
        },
        "id": "X0DR7l0NBUYj",
        "outputId": "83b1a338-066e-4fe6-ff62-f26b08ec0def"
      },
      "outputs": [
        {
          "output_type": "stream",
          "name": "stdout",
          "text": [
            "original list by value: {1: 2, 3: 4, 4: 3, 2: 1, 0: 0}\n",
            "ascending order by value: [(0, 0), (2, 1), (1, 2), (4, 3), (3, 4)]\n",
            "descending order by value: {3: 4, 4: 3, 1: 2, 2: 1, 0: 0}\n"
          ]
        }
      ],
      "source": [
        "#1.​ Write a Python script to sort (ascending and descending) a dictionary by value\n",
        "import operator\n",
        "d={1:2,3:4,4:3,2:1,0:0}\n",
        "print('original list by value:',d)\n",
        "sorted_d=sorted(d.items(),key=operator.itemgetter(1))\n",
        "print('ascending order by value:',sorted_d)\n",
        "sorted_d=dict(sorted(d.items(),key=operator.itemgetter(1),reverse=True))\n",
        "print('descending order by value:',sorted_d)"
      ]
    },
    {
      "cell_type": "code",
      "source": [
        "import operator\n",
        "d={1:2,3:4,4:3,2:1,0:0}\n",
        "print('original dictionary:',d)\n",
        "a=dict(sorted(d.items(),key=operator.itemgetter(1)))\n",
        "print('ascending dictionary:',a)\n",
        "b=dict(sorted(d.items(),key=operator.itemgetter(1),reverse=True))\n",
        "print(\"descending dictionary:\",b)"
      ],
      "metadata": {
        "colab": {
          "base_uri": "https://localhost:8080/"
        },
        "id": "BH980FZhUQGQ",
        "outputId": "5b9fe04c-cbaf-41e1-f255-51f5528c5df7"
      },
      "execution_count": null,
      "outputs": [
        {
          "output_type": "stream",
          "name": "stdout",
          "text": [
            "original dictionary: {1: 2, 3: 4, 4: 3, 2: 1, 0: 0}\n",
            "ascending dictionary: {0: 0, 2: 1, 1: 2, 4: 3, 3: 4}\n",
            "descending dictionary: {3: 4, 4: 3, 1: 2, 2: 1, 0: 0}\n"
          ]
        }
      ]
    },
    {
      "cell_type": "code",
      "source": [
        "#Write a Python program to add a key to a dictionary.\n",
        "a={0:10, 1:20}\n",
        "print(a)\n",
        "a.update({2:12})\n",
        "print(a)\n"
      ],
      "metadata": {
        "colab": {
          "base_uri": "https://localhost:8080/"
        },
        "id": "pJuWx86MKqyP",
        "outputId": "581414bf-f143-4798-a576-6e846be47ab9"
      },
      "execution_count": null,
      "outputs": [
        {
          "output_type": "stream",
          "name": "stdout",
          "text": [
            "{0: 10, 1: 20}\n",
            "{0: 10, 1: 20, 2: 12}\n"
          ]
        }
      ]
    },
    {
      "cell_type": "code",
      "source": [
        "a={1:10,2:20}\n",
        "a.update({3:30})\n",
        "print(a)"
      ],
      "metadata": {
        "colab": {
          "base_uri": "https://localhost:8080/"
        },
        "id": "bSo84AInYOge",
        "outputId": "6206c657-6440-4004-ee0c-7f4dc5f83967"
      },
      "execution_count": null,
      "outputs": [
        {
          "output_type": "stream",
          "name": "stdout",
          "text": [
            "{1: 10, 2: 20, 3: 30}\n"
          ]
        }
      ]
    },
    {
      "cell_type": "code",
      "source": [
        "#1.​ Write a Python script to sort (ascending and descending) a dictionary by value\n",
        "import operator\n",
        "a={1:2,5:4,7:3,8:1}\n",
        "print(\"original list by value:\",a)\n",
        "sorted_a=sorted(a.items(),key=operator.itemgetter(1))\n",
        "print(\"ascending order by value:\",sorted_a)\n",
        "sorted_a=dict(sorted(a.items(),key=operator.itemgetter(1),reverse=True))\n",
        "print(\"descending order by value:\",sorted_a)"
      ],
      "metadata": {
        "colab": {
          "base_uri": "https://localhost:8080/"
        },
        "id": "LE0XjMj3SdH9",
        "outputId": "b4064972-5ab0-4904-9194-88a840986074"
      },
      "execution_count": null,
      "outputs": [
        {
          "output_type": "stream",
          "name": "stdout",
          "text": [
            "original list by value: {1: 2, 5: 4, 7: 3, 8: 1}\n",
            "ascending order by value: [(8, 1), (1, 2), (7, 3), (5, 4)]\n",
            "descending order by value: {5: 4, 7: 3, 1: 2, 8: 1}\n"
          ]
        }
      ]
    },
    {
      "cell_type": "code",
      "source": [],
      "metadata": {
        "id": "N4lWtNTXYy55"
      },
      "execution_count": null,
      "outputs": []
    },
    {
      "cell_type": "code",
      "source": [
        "#Write a Python program to add a key to a dictionary.\n",
        "a={7:1,8:2}\n",
        "print(a)\n",
        "a.update({9:3})\n",
        "print(a)"
      ],
      "metadata": {
        "colab": {
          "base_uri": "https://localhost:8080/"
        },
        "id": "VvkX2DFwFxlh",
        "outputId": "8c59a4ea-5380-4a3e-dd8f-a8f3f0bea21a"
      },
      "execution_count": null,
      "outputs": [
        {
          "output_type": "stream",
          "name": "stdout",
          "text": [
            "{7: 1, 8: 2}\n",
            "{7: 1, 8: 2, 9: 3}\n"
          ]
        }
      ]
    },
    {
      "cell_type": "code",
      "source": [
        "#3.​ Write a Python script to concatenate following dictionaries to create a new one\n",
        "dic1={1:10,2:20}\n",
        "dic2={3:30,4:40}\n",
        "dic3={5:50,6:60}\n",
        "dic4={}\n",
        "for d in (dic1,dic2,dic3):\n",
        "  dic4.update(d)\n",
        "print(dic4)"
      ],
      "metadata": {
        "colab": {
          "base_uri": "https://localhost:8080/"
        },
        "id": "pwipz6E8GqrJ",
        "outputId": "6ce15470-5b75-4719-e74e-472a8668d6b9"
      },
      "execution_count": null,
      "outputs": [
        {
          "output_type": "stream",
          "name": "stdout",
          "text": [
            "{1: 10, 2: 20, 3: 30, 4: 40, 5: 50, 6: 60}\n"
          ]
        }
      ]
    },
    {
      "cell_type": "code",
      "source": [
        "dic1={1:10,2:20}\n",
        "dic2={3:30,4:40}\n",
        "dic3={5:50,6:60}\n",
        "dict4={}\n",
        "for i in (dic1,dic2,dic3):\n",
        "  dict4.update(i)\n",
        "print(dict4)"
      ],
      "metadata": {
        "colab": {
          "base_uri": "https://localhost:8080/"
        },
        "id": "8ri96MWPY2PT",
        "outputId": "7a8b64bf-469b-4dcc-f309-36bf691a1a5e"
      },
      "execution_count": null,
      "outputs": [
        {
          "output_type": "stream",
          "name": "stdout",
          "text": [
            "{1: 10, 2: 20, 3: 30, 4: 40, 5: 50, 6: 60}\n"
          ]
        }
      ]
    },
    {
      "cell_type": "code",
      "source": [
        "#4.​ Write a Python script to check whether a given key already exists in a dictionary\n",
        "def is_key_present(x):\n",
        "  if x in d:\n",
        "    print(\"key is present in the dictionary\")\n",
        "  else:\n",
        "    print(\"key is not present in the dictionary\")\n",
        "d={1:10,2:20,3:30,4:40,5:50,6:60}\n",
        "is_key_present(5)\n",
        "is_key_present(9)"
      ],
      "metadata": {
        "colab": {
          "base_uri": "https://localhost:8080/"
        },
        "id": "5x0yqVrpJ-_s",
        "outputId": "864d64da-e6bb-4cf5-9f0d-b25107418e09"
      },
      "execution_count": null,
      "outputs": [
        {
          "output_type": "stream",
          "name": "stdout",
          "text": [
            "key is present in the dictionary\n",
            "key is not present in the dictionary\n"
          ]
        }
      ]
    },
    {
      "cell_type": "code",
      "source": [
        "d={1:10,2:20,3:30,4:40,5:50,6:60}\n",
        "for i in range(7):\n",
        "  x=int(input())\n",
        "  if x in d:\n",
        "    print(\"key is present\")\n",
        "  else:\n",
        "    print(\"not present\")\n"
      ],
      "metadata": {
        "colab": {
          "base_uri": "https://localhost:8080/"
        },
        "id": "Nm4YC52VZiW8",
        "outputId": "9e8b8a95-56c4-4ea7-c1e4-b5ae9206a10f"
      },
      "execution_count": null,
      "outputs": [
        {
          "output_type": "stream",
          "name": "stdout",
          "text": [
            "6\n",
            "key is present\n",
            "7\n",
            "not present\n",
            "8\n",
            "not present\n",
            "2\n",
            "key is present\n",
            "1\n",
            "key is present\n",
            "5\n",
            "key is present\n",
            "2\n",
            "key is present\n"
          ]
        }
      ]
    },
    {
      "cell_type": "code",
      "source": [
        "#5.​ Write a Python program to iterate over dictionaries using for loops. \n",
        "d={'x':10,'y':20,'z':30}\n",
        "for dict_key,dict_value in d.items():\n",
        "  print(dict_key,'->',dict_value)"
      ],
      "metadata": {
        "colab": {
          "base_uri": "https://localhost:8080/"
        },
        "id": "kcp65fhnMwiu",
        "outputId": "b8cc7e68-51e7-4d74-d671-776c89fd6128"
      },
      "execution_count": null,
      "outputs": [
        {
          "output_type": "stream",
          "name": "stdout",
          "text": [
            "x -> 10\n",
            "y -> 20\n",
            "z -> 30\n"
          ]
        }
      ]
    },
    {
      "cell_type": "code",
      "source": [
        "d={'x':10,'y':20,'z':30}\n",
        "for a,b in d.items():\n",
        "  print(a,'->',b)"
      ],
      "metadata": {
        "colab": {
          "base_uri": "https://localhost:8080/"
        },
        "id": "gLD6JkFemOll",
        "outputId": "bba68c3d-985f-4668-88db-38ca1c52705c"
      },
      "execution_count": null,
      "outputs": [
        {
          "output_type": "stream",
          "name": "stdout",
          "text": [
            "x -> 10\n",
            "y -> 20\n",
            "z -> 30\n"
          ]
        }
      ]
    },
    {
      "cell_type": "code",
      "source": [
        "#6.​ Write a Python script to generate and print a dictionary that contains a number (between 1 and n) in the form (x, x*x)\n",
        "n=int(input(\"Input a number\"))\n",
        "d=dict()\n",
        "for x in range(1,n+1):\n",
        "  d[x]=x*x\n",
        "print(d)"
      ],
      "metadata": {
        "colab": {
          "base_uri": "https://localhost:8080/"
        },
        "id": "mJA637RSOe4m",
        "outputId": "72d973ab-daaf-4782-d0e6-4b9f862b7e7e"
      },
      "execution_count": null,
      "outputs": [
        {
          "output_type": "stream",
          "name": "stdout",
          "text": [
            "Input a number5\n",
            "{1: 1, 2: 4, 3: 9, 4: 16, 5: 25}\n"
          ]
        }
      ]
    },
    {
      "cell_type": "code",
      "source": [
        "n=int(input(\"Input the number\"))\n",
        "d={}\n",
        "for x in range(1,n+1):\n",
        "  d[x]=x*x\n",
        "print(d)"
      ],
      "metadata": {
        "colab": {
          "base_uri": "https://localhost:8080/"
        },
        "id": "1H6ixtJLnpJB",
        "outputId": "8c1ddf39-2bea-4464-8523-8464aaa6735d"
      },
      "execution_count": null,
      "outputs": [
        {
          "output_type": "stream",
          "name": "stdout",
          "text": [
            "Input the number5\n",
            "{1: 1, 2: 4, 3: 9, 4: 16, 5: 25}\n"
          ]
        }
      ]
    },
    {
      "cell_type": "code",
      "source": [
        "#7.​ Write a Python script to print a dictionary where the keys are numbers between 1 and 15 (both included) and the values are square of keys.\n",
        "d=dict()\n",
        "for x in range(1,16):\n",
        "  d[x]=x*x\n",
        "print(d)"
      ],
      "metadata": {
        "colab": {
          "base_uri": "https://localhost:8080/"
        },
        "id": "BEh_mhk7U7D-",
        "outputId": "16d70309-4dfe-4b7b-dfa2-cabf85776956"
      },
      "execution_count": null,
      "outputs": [
        {
          "output_type": "stream",
          "name": "stdout",
          "text": [
            "{1: 1, 2: 4, 3: 9, 4: 16, 5: 25, 6: 36, 7: 49, 8: 64, 9: 81, 10: 100, 11: 121, 12: 144, 13: 169, 14: 196, 15: 225}\n"
          ]
        }
      ]
    },
    {
      "cell_type": "code",
      "source": [
        "#8.​ Write a Python script to merge two Python dictionaries\n",
        "dic1={1:10,2:20,3:30}\n",
        "dic2={4:40,5:50,6:60}\n",
        "dic3={}\n",
        "for x in (dic1,dic2):\n",
        "  dic3.update(x)\n",
        "print(dic3)"
      ],
      "metadata": {
        "colab": {
          "base_uri": "https://localhost:8080/"
        },
        "id": "6Z5js6rQVcfQ",
        "outputId": "d665324c-ecf6-4b0e-9289-5c983d347791"
      },
      "execution_count": null,
      "outputs": [
        {
          "output_type": "stream",
          "name": "stdout",
          "text": [
            "{1: 10, 2: 20, 3: 30, 4: 40, 5: 50, 6: 60}\n"
          ]
        }
      ]
    },
    {
      "cell_type": "code",
      "source": [
        "#9.​ Write a Python program to iterate over dictionaries using for loops\n",
        "dic1={'x':10,'y':20,'z':30}\n",
        "for dic1_key,dic1_value in dic1.items():\n",
        "  print(dic1_key,'->',dic1_value)"
      ],
      "metadata": {
        "colab": {
          "base_uri": "https://localhost:8080/"
        },
        "id": "A_bksUB2V_fW",
        "outputId": "4d288682-8d41-4ef1-f929-d95d158f7330"
      },
      "execution_count": null,
      "outputs": [
        {
          "output_type": "stream",
          "name": "stdout",
          "text": [
            "x -> 10\n",
            "y -> 20\n",
            "z -> 30\n"
          ]
        }
      ]
    },
    {
      "cell_type": "code",
      "source": [
        "#10.​ Write a Python program to sum all the items in a dictionary\n",
        "dic2={'x':100,'y':200,'z':300}\n",
        "print(sum(dic2.values()))"
      ],
      "metadata": {
        "colab": {
          "base_uri": "https://localhost:8080/"
        },
        "id": "a8XTESXkfltD",
        "outputId": "d99c7de2-66c1-4c8f-e56c-4639db194a07"
      },
      "execution_count": null,
      "outputs": [
        {
          "output_type": "stream",
          "name": "stdout",
          "text": [
            "600\n"
          ]
        }
      ]
    },
    {
      "cell_type": "code",
      "source": [
        "dic2={'x':100,'y':200,'z':300}\n",
        "result=0\n",
        "for key in dic2:\n",
        "  result=result+dic2[key]\n",
        "print(result)"
      ],
      "metadata": {
        "colab": {
          "base_uri": "https://localhost:8080/"
        },
        "id": "mB0VGSHNi2-Z",
        "outputId": "7fb12f98-03d8-4ea7-825f-7e9b56d79246"
      },
      "execution_count": null,
      "outputs": [
        {
          "output_type": "stream",
          "name": "stdout",
          "text": [
            "600\n"
          ]
        }
      ]
    },
    {
      "cell_type": "code",
      "source": [
        "dic2={'x':100,'y':200,'z':300}\n",
        "print(sum(dic2.values()))"
      ],
      "metadata": {
        "colab": {
          "base_uri": "https://localhost:8080/"
        },
        "id": "OqkpQ7w6gTBi",
        "outputId": "ffcc5c7f-7c6d-49da-f570-338c585c7025"
      },
      "execution_count": null,
      "outputs": [
        {
          "output_type": "stream",
          "name": "stdout",
          "text": [
            "600\n"
          ]
        }
      ]
    },
    {
      "cell_type": "code",
      "source": [
        "11.#write a python program to multiple all items in a dictionary.\n",
        "dic2={'x':100,'y':200,'z':300}\n",
        "result=1\n",
        "for key in dic2:\n",
        "  result=result*dic2[key]\n",
        "print(result)"
      ],
      "metadata": {
        "colab": {
          "base_uri": "https://localhost:8080/"
        },
        "id": "7jcAl3pFgq55",
        "outputId": "c1b83f8e-212f-4540-8a86-37b07128ac0a"
      },
      "execution_count": null,
      "outputs": [
        {
          "output_type": "stream",
          "name": "stdout",
          "text": [
            "6000000\n"
          ]
        }
      ]
    },
    {
      "cell_type": "code",
      "source": [
        "#12.Write a Python program to remove a key from a dictionary.\n",
        "dic2={'x':100,'y':200,'z':300}\n",
        "if 'y' in dic2:\n",
        "  del(dic2['y'])\n",
        "print(dic2)"
      ],
      "metadata": {
        "colab": {
          "base_uri": "https://localhost:8080/"
        },
        "id": "EfLpge2disne",
        "outputId": "0b936c4e-8740-4207-c568-e37d7b6f7430"
      },
      "execution_count": null,
      "outputs": [
        {
          "output_type": "stream",
          "name": "stdout",
          "text": [
            "{'x': 100, 'z': 300}\n"
          ]
        }
      ]
    },
    {
      "cell_type": "code",
      "source": [
        "#13.Write a Python program to map two lists into a dictionary.\n",
        "keys=['red','green','blue']\n",
        "values=['#FF0000','#008000','#0000FF']\n",
        "dic2=dict(zip(keys,values))\n",
        "print(dic2)"
      ],
      "metadata": {
        "colab": {
          "base_uri": "https://localhost:8080/"
        },
        "id": "xfFfwUOulaLY",
        "outputId": "94181ee9-cbaf-48e9-ab6d-67dc6400db5f"
      },
      "execution_count": null,
      "outputs": [
        {
          "output_type": "stream",
          "name": "stdout",
          "text": [
            "{'red': '#FF0000', 'green': '#008000', 'blue': '#0000FF'}\n"
          ]
        }
      ]
    },
    {
      "cell_type": "code",
      "source": [
        "#14.Write a Python program to sort a given dictionary by key\n",
        "color_dict = {'red':'#FF0000',\n",
        "          'green':'#008000',\n",
        "          'black':'#000000',\n",
        "          'white':'#FFFFFF'}\n",
        "for key in sorted(color_dict):\n",
        "  print('%s : %s'%(key,color_dict[key]))"
      ],
      "metadata": {
        "colab": {
          "base_uri": "https://localhost:8080/"
        },
        "id": "PkPyG7gcnJs5",
        "outputId": "5a3a7924-6f65-47c9-a557-a4318b45ba88"
      },
      "execution_count": null,
      "outputs": [
        {
          "output_type": "stream",
          "name": "stdout",
          "text": [
            "black : #000000\n",
            "green : #008000\n",
            "red : #FF0000\n",
            "white : #FFFFFF\n"
          ]
        }
      ]
    },
    {
      "cell_type": "code",
      "source": [
        "color_dict = {'red':'#FF0000',\n",
        "          'green':'#008000',\n",
        "          'black':'#000000',\n",
        "          'white':'#FFFFFF'}"
      ],
      "metadata": {
        "id": "gTMEy_PoqKuO"
      },
      "execution_count": null,
      "outputs": []
    },
    {
      "cell_type": "code",
      "source": [
        "color_dict"
      ],
      "metadata": {
        "colab": {
          "base_uri": "https://localhost:8080/"
        },
        "id": "YQV47DjMqOCD",
        "outputId": "b9151305-408e-43c2-df04-ed52a0a424a5"
      },
      "execution_count": null,
      "outputs": [
        {
          "output_type": "execute_result",
          "data": {
            "text/plain": [
              "{'black': '#000000', 'green': '#008000', 'red': '#FF0000', 'white': '#FFFFFF'}"
            ]
          },
          "metadata": {},
          "execution_count": 22
        }
      ]
    },
    {
      "cell_type": "code",
      "source": [
        "my_dict = {'x':500, 'y':5874, 'z': 560}\n",
        "print(my_dict.keys())"
      ],
      "metadata": {
        "colab": {
          "base_uri": "https://localhost:8080/"
        },
        "id": "BuGiIsypoG_m",
        "outputId": "c485cd1a-eee5-4c47-9880-bf77b52376d5"
      },
      "execution_count": null,
      "outputs": [
        {
          "output_type": "stream",
          "name": "stdout",
          "text": [
            "dict_keys(['x', 'y', 'z'])\n"
          ]
        }
      ]
    },
    {
      "cell_type": "code",
      "source": [
        "#15.Write a Python program to get the maximum and minimum value in a dictionary.\n",
        "my_dict = {'x':500, 'y':5874, 'z': 560}\n",
        "highest=max(my_dict,key=my_dict.get)\n",
        "hvalue=max(my_dict.values())\n",
        "print(highest,':',hvalue) \n",
        "minimum=min(my_dict,key=my_dict.get)\n",
        "mvalue=min(my_dict.values())\n",
        "print(minimum,':',mvalue) "
      ],
      "metadata": {
        "colab": {
          "base_uri": "https://localhost:8080/"
        },
        "id": "jh66JzFkvWlT",
        "outputId": "40ff28f2-5ac6-4ca9-dd76-5cc8f80b391b"
      },
      "execution_count": null,
      "outputs": [
        {
          "output_type": "stream",
          "name": "stdout",
          "text": [
            "y : 5874\n",
            "x : 500\n"
          ]
        }
      ]
    },
    {
      "cell_type": "code",
      "source": [
        "my_dict = {'x':500, 'y':5874, 'z': 560}\n",
        "print(\"maximum value gained by:\",max(my_dict, key=lambda x: my_dict[x]))\n",
        "a=max(my_dict, key=lambda x: my_dict[x])\n",
        "print(\"maximum value of the dictionary:\",my_dict[a])\n",
        "print(\"minimum value gained by:\",min(my_dict, key=lambda x: my_dict[x]))\n",
        "b=min(my_dict, key=lambda x: my_dict[x])\n",
        "print(\"minimum value of the dictionary:\",my_dict[b])"
      ],
      "metadata": {
        "colab": {
          "base_uri": "https://localhost:8080/"
        },
        "id": "A6f4WetHwzDv",
        "outputId": "3f06acf8-8c5b-4ffc-eb85-795a3d2f2ef7"
      },
      "execution_count": null,
      "outputs": [
        {
          "output_type": "stream",
          "name": "stdout",
          "text": [
            "maximum value gained by: y\n",
            "maximum value of the dictionary: 5874\n",
            "minimum value gained by: x\n",
            "minimum value of the dictionary: 500\n"
          ]
        }
      ]
    },
    {
      "cell_type": "code",
      "source": [
        "#16.Write a Python program to get a dictionary from an object's fields\n",
        "class dictObj(object):\n",
        "     def __init__(self):\n",
        "         self.x = 'red'\n",
        "         self.y = 'Yellow'\n",
        "         self.z = 'Green'\n",
        "     def do_nothing(self):\n",
        "         pass\n",
        "test = dictObj()\n",
        "print(test.__dict__)"
      ],
      "metadata": {
        "colab": {
          "base_uri": "https://localhost:8080/"
        },
        "id": "uIXV9I-yzXKF",
        "outputId": "3b6bae2b-7d0e-4a56-ca53-953542e40931"
      },
      "execution_count": null,
      "outputs": [
        {
          "output_type": "stream",
          "name": "stdout",
          "text": [
            "{'x': 'red', 'y': 'Yellow', 'z': 'Green'}\n"
          ]
        }
      ]
    },
    {
      "cell_type": "code",
      "source": [
        "student_data = {'id1': \n",
        "   {'name': ['Sara'], \n",
        "    'class': ['V'], \n",
        "    'subject_integration': ['english, math, science']\n",
        "   },\n",
        " 'id2': \n",
        "  {'name': ['David'], \n",
        "    'class': ['V'], \n",
        "    'subject_integration': ['english, math, science']\n",
        "   },\n",
        " 'id3': \n",
        "    {'name': ['Sara'], \n",
        "    'class': ['V'], \n",
        "    'subject_integration': ['english, math, science']\n",
        "   },\n",
        " 'id4': \n",
        "   {'name': ['Surya'], \n",
        "    'class': ['V'], \n",
        "    'subject_integration': ['english, math, science']\n",
        "   }}\n"
      ],
      "metadata": {
        "id": "55FhbbaLzYBx"
      },
      "execution_count": null,
      "outputs": []
    },
    {
      "cell_type": "code",
      "source": [],
      "metadata": {
        "id": "NEBtniuyUOc9"
      },
      "execution_count": null,
      "outputs": []
    },
    {
      "cell_type": "code",
      "source": [
        "dict1={}\n",
        "list1=[]\n",
        "for i in student_data:\n",
        "  if student_data[i]['name'] in list1:\n",
        "    pass\n",
        "  else:\n",
        "    list1.append(student_data[i]['name'])\n",
        "    dict1[i]=student_data[i]\n",
        "    print(i,student_data[i])"
      ],
      "metadata": {
        "colab": {
          "base_uri": "https://localhost:8080/"
        },
        "id": "U3TrKy-9IOpl",
        "outputId": "9cd208a7-f864-4fee-ad52-e9191262ab2a"
      },
      "execution_count": null,
      "outputs": [
        {
          "output_type": "stream",
          "name": "stdout",
          "text": [
            "id1 {'name': ['Sara'], 'class': ['V'], 'subject_integration': ['english, math, science']}\n",
            "id2 {'name': ['David'], 'class': ['V'], 'subject_integration': ['english, math, science']}\n",
            "id4 {'name': ['Surya'], 'class': ['V'], 'subject_integration': ['english, math, science']}\n"
          ]
        }
      ]
    },
    {
      "cell_type": "code",
      "source": [
        "dict1"
      ],
      "metadata": {
        "colab": {
          "base_uri": "https://localhost:8080/"
        },
        "id": "bSC1_9s1Jj3l",
        "outputId": "97158198-d6d4-4848-a763-9341a0a8f516"
      },
      "execution_count": null,
      "outputs": [
        {
          "output_type": "execute_result",
          "data": {
            "text/plain": [
              "{'id1': {'class': ['V'],\n",
              "  'name': ['Sara'],\n",
              "  'subject_integration': ['english, math, science']},\n",
              " 'id2': {'class': ['V'],\n",
              "  'name': ['David'],\n",
              "  'subject_integration': ['english, math, science']},\n",
              " 'id4': {'class': ['V'],\n",
              "  'name': ['Surya'],\n",
              "  'subject_integration': ['english, math, science']}}"
            ]
          },
          "metadata": {},
          "execution_count": 12
        }
      ]
    },
    {
      "cell_type": "code",
      "source": [
        "dict1"
      ],
      "metadata": {
        "colab": {
          "base_uri": "https://localhost:8080/"
        },
        "id": "nAt0x2hjLDKA",
        "outputId": "bd4d9f1a-e4d4-49ec-afb4-828c404f2bd0"
      },
      "execution_count": null,
      "outputs": [
        {
          "output_type": "execute_result",
          "data": {
            "text/plain": [
              "{'class': ['V'],\n",
              " 'name': ['Surya'],\n",
              " 'subject_integration': ['english, math, science']}"
            ]
          },
          "metadata": {},
          "execution_count": 23
        }
      ]
    },
    {
      "cell_type": "code",
      "source": [
        "#18.​ Write a Python program to check a dictionary is empty or not\n",
        "my_dict={}\n",
        "if not bool(my_dict):\n",
        "  print('the dictionary is empty')"
      ],
      "metadata": {
        "colab": {
          "base_uri": "https://localhost:8080/"
        },
        "id": "sSJUkSKhMAWd",
        "outputId": "5ceb7787-8a0b-4af5-9d9f-8b2c51bbf301"
      },
      "execution_count": null,
      "outputs": [
        {
          "output_type": "stream",
          "name": "stdout",
          "text": [
            "the dictionary is empty\n"
          ]
        }
      ]
    },
    {
      "cell_type": "code",
      "source": [
        "#19. Write a Python program to combine two dictionary adding values for common keys\n",
        "from collections import Counter\n",
        "d1 = {'a': 100, 'b': 200, 'c':300}\n",
        "d2 = {'a': 300, 'b': 200, 'd':400}\n",
        "d = Counter(d1) + Counter(d2)\n",
        "print(d)"
      ],
      "metadata": {
        "colab": {
          "base_uri": "https://localhost:8080/"
        },
        "id": "RoZwb-ftOBOh",
        "outputId": "a31977c0-256d-4a56-c316-798396639d90"
      },
      "execution_count": null,
      "outputs": [
        {
          "output_type": "stream",
          "name": "stdout",
          "text": [
            "Counter({'a': 400, 'b': 400, 'd': 400, 'c': 300})\n"
          ]
        }
      ]
    },
    {
      "cell_type": "code",
      "source": [
        "from collections import Counter\n",
        "d1={'a':100, 'b':200,'c':300}\n",
        "d2={'a':100, 'b':200,'d':300}\n",
        "d=Counter(d1)+Counter(d2)\n",
        "print(d)"
      ],
      "metadata": {
        "colab": {
          "base_uri": "https://localhost:8080/"
        },
        "id": "h8YhIeoXOV2P",
        "outputId": "87780773-e229-435c-84ee-1082ea01a9c6"
      },
      "execution_count": null,
      "outputs": [
        {
          "output_type": "stream",
          "name": "stdout",
          "text": [
            "Counter({'b': 400, 'c': 300, 'd': 300, 'a': 200})\n"
          ]
        }
      ]
    },
    {
      "cell_type": "code",
      "source": [
        "#20.​ Write a Python program to print all unique values in a dictionary\n",
        "L=[{\"V\":\"S001\"}, {\"V\": \"S002\"}, {\"VI\": \"S001\"}, {\"VI\": \"S005\"},\n",
        "{\"VII\":\"S005\"}, {\"V\":\"S009\"},{\"VIII\":\"S007\"}]\n",
        "list1=[]\n",
        "for i in L:\n",
        "  print(i)\n",
        "  for j in i:\n",
        "    print(j)\n",
        "    list1.append(i[j])"
      ],
      "metadata": {
        "id": "s1GYfOOWPlrf",
        "colab": {
          "base_uri": "https://localhost:8080/"
        },
        "outputId": "a6ca5149-eb4c-4f3e-ebeb-eedbcca1e406"
      },
      "execution_count": null,
      "outputs": [
        {
          "output_type": "stream",
          "name": "stdout",
          "text": [
            "{'V': 'S001'}\n",
            "V\n",
            "{'V': 'S002'}\n",
            "V\n",
            "{'VI': 'S001'}\n",
            "VI\n",
            "{'VI': 'S005'}\n",
            "VI\n",
            "{'VII': 'S005'}\n",
            "VII\n",
            "{'V': 'S009'}\n",
            "V\n",
            "{'VIII': 'S007'}\n",
            "VIII\n"
          ]
        }
      ]
    },
    {
      "cell_type": "code",
      "source": [
        "set(list1)"
      ],
      "metadata": {
        "colab": {
          "base_uri": "https://localhost:8080/"
        },
        "id": "_A8mr9whT2vN",
        "outputId": "cb307532-639b-4488-d879-73f38882f629"
      },
      "execution_count": null,
      "outputs": [
        {
          "output_type": "execute_result",
          "data": {
            "text/plain": [
              "{'S001', 'S002', 'S005', 'S007', 'S009'}"
            ]
          },
          "metadata": {},
          "execution_count": 17
        }
      ]
    },
    {
      "cell_type": "code",
      "source": [
        "#21.​ Write a Python program to create and display all combinations of letters, selecting each letter from a different key in a dictionary\n",
        "dict1= {'1':['a','b'], '2':['c','d']}\n",
        "val=list(dict1.values())"
      ],
      "metadata": {
        "id": "gyXGSM1rUl8Y"
      },
      "execution_count": null,
      "outputs": []
    },
    {
      "cell_type": "code",
      "source": [
        "val"
      ],
      "metadata": {
        "colab": {
          "base_uri": "https://localhost:8080/"
        },
        "id": "UmOuD57JnzbW",
        "outputId": "a554568a-3d28-48c7-d1ab-5386ec9f1c4c"
      },
      "execution_count": null,
      "outputs": [
        {
          "output_type": "execute_result",
          "data": {
            "text/plain": [
              "[['a', 'b'], ['c', 'd']]"
            ]
          },
          "metadata": {},
          "execution_count": 26
        }
      ]
    },
    {
      "cell_type": "code",
      "source": [
        "for i in range(0,len(val)-1):\n",
        "  for j in val[i]:\n",
        "    for k in val[i+1]:\n",
        "      print(j+k)"
      ],
      "metadata": {
        "colab": {
          "base_uri": "https://localhost:8080/"
        },
        "id": "xUmUDO_Vn0Pv",
        "outputId": "aa7ed889-2f3d-47c6-a3ea-c8061d0ff51f"
      },
      "execution_count": null,
      "outputs": [
        {
          "output_type": "stream",
          "name": "stdout",
          "text": [
            "ac\n",
            "ad\n",
            "bc\n",
            "bd\n"
          ]
        }
      ]
    },
    {
      "cell_type": "code",
      "source": [
        "#25.​ Write a Python program to print a dictionary in table format\n",
        "dict1 = {'c1':['1','2','3'],'c2':['4','5','6'],'c3':['7','8','9']}\n",
        "print(*list(dict1.keys()))\n",
        "for i in zip(*dict1.values()):\n",
        "  print(*i)"
      ],
      "metadata": {
        "colab": {
          "base_uri": "https://localhost:8080/"
        },
        "id": "z333f3aAoYHU",
        "outputId": "ffa565ee-86c8-4007-b396-73d816b2c1c5"
      },
      "execution_count": null,
      "outputs": [
        {
          "output_type": "stream",
          "name": "stdout",
          "text": [
            "c1 c2 c3\n",
            "1 4 7\n",
            "2 5 8\n",
            "3 6 9\n"
          ]
        }
      ]
    },
    {
      "cell_type": "code",
      "source": [
        "#22.Write a Python program to find the highest 3 values of corresponding keys in a dictionary.\n",
        "from heapq import nlargest\n",
        "my_dict = {'a':500, 'b':5874, 'c': 560,'d':400, 'e':5874, 'f': 20}  \n",
        "three_largest=nlargest(3,my_dict,key=my_dict.get)\n",
        "print(three_largest)"
      ],
      "metadata": {
        "colab": {
          "base_uri": "https://localhost:8080/"
        },
        "id": "xvRWpqHO5L7u",
        "outputId": "2dc7bb72-a9e7-4241-8d1e-8d7e6b1028b9"
      },
      "execution_count": null,
      "outputs": [
        {
          "output_type": "stream",
          "name": "stdout",
          "text": [
            "['b', 'e', 'c']\n"
          ]
        }
      ]
    },
    {
      "cell_type": "code",
      "source": [
        "from heapq import nlargest\n",
        "my_dict = {'a':500, 'b':5874, 'c': 560,'d':400, 'e':5874, 'f': 20}  \n",
        "three_largest=nlargest(3,my_dict,key=my_dict.get)\n",
        "print(*three_largest)"
      ],
      "metadata": {
        "colab": {
          "base_uri": "https://localhost:8080/"
        },
        "id": "QBobRSDAsgFe",
        "outputId": "46f04a96-b5bd-43dc-b104-c594238c641c"
      },
      "execution_count": null,
      "outputs": [
        {
          "output_type": "stream",
          "name": "stdout",
          "text": [
            "b e c\n"
          ]
        }
      ]
    },
    {
      "cell_type": "code",
      "source": [
        "#23.​ Write a Python program to combine values in python list of dictionaries\n",
        "from collections import Counter\n",
        "data= [{'item': 'item1', 'amount': 400}, {'item': 'item2', 'amount': 300},{'item': 'item1', 'amount': 750}]\n",
        "result=Counter()\n",
        "for d in data:\n",
        "  result[d['item']]+=d['amount']\n",
        "print(result)"
      ],
      "metadata": {
        "colab": {
          "base_uri": "https://localhost:8080/"
        },
        "id": "eZE8BhLss6GG",
        "outputId": "74444b1d-9501-4370-e1e0-f0295bde3495"
      },
      "execution_count": null,
      "outputs": [
        {
          "output_type": "stream",
          "name": "stdout",
          "text": [
            "Counter({'item1': 1150, 'item2': 300})\n"
          ]
        }
      ]
    },
    {
      "cell_type": "code",
      "source": [
        "data= [{'item': 'item1', 'amount': 400}, {'item': 'item2', 'amount': 300},{'item': 'item1', 'amount': 750}]\n",
        "for d in data:\n",
        "  print(d)"
      ],
      "metadata": {
        "colab": {
          "base_uri": "https://localhost:8080/"
        },
        "id": "7_H8px-1uwGX",
        "outputId": "b1c10a59-943b-4b31-fc36-f5f22070e572"
      },
      "execution_count": null,
      "outputs": [
        {
          "output_type": "stream",
          "name": "stdout",
          "text": [
            "{'item': 'item1', 'amount': 400}\n",
            "{'item': 'item2', 'amount': 300}\n",
            "{'item': 'item1', 'amount': 750}\n"
          ]
        }
      ]
    },
    {
      "cell_type": "code",
      "source": [],
      "metadata": {
        "id": "Uimyz4ktu83B"
      },
      "execution_count": null,
      "outputs": []
    }
  ]
}