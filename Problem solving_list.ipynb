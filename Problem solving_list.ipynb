{
  "nbformat": 4,
  "nbformat_minor": 0,
  "metadata": {
    "colab": {
      "provenance": []
    },
    "kernelspec": {
      "name": "python3",
      "display_name": "Python 3"
    },
    "language_info": {
      "name": "python"
    }
  },
  "cells": [
    {
      "cell_type": "code",
      "metadata": {
        "colab": {
          "base_uri": "https://localhost:8080/"
        },
        "id": "CquLiYGbjenQ",
        "outputId": "f434cd0e-3f81-42e7-d0fa-c6181cb7006d"
      },
      "source": [
        "#write a program to sum all the items in a list\n",
        "list1=[5,7,8,10]\n",
        "sum=0\n",
        "for i in list1:\n",
        "  sum=sum+i\n",
        "print(\"sum=\",sum)\n"
      ],
      "execution_count": null,
      "outputs": [
        {
          "output_type": "stream",
          "name": "stdout",
          "text": [
            "sum= 30\n"
          ]
        }
      ]
    },
    {
      "cell_type": "code",
      "metadata": {
        "colab": {
          "base_uri": "https://localhost:8080/"
        },
        "id": "_QnV65TIkEt1",
        "outputId": "3e6c22e7-300c-4bd1-d3e1-0d542179dd59"
      },
      "source": [
        "#write a program to multiplies all the items in a list\n",
        "list1=[5,7,8,10]\n",
        "result=1\n",
        "for i in list1:\n",
        "  result=result*i\n",
        "print(\"result=\",result)\n"
      ],
      "execution_count": null,
      "outputs": [
        {
          "output_type": "stream",
          "name": "stdout",
          "text": [
            "result= 2800\n"
          ]
        }
      ]
    },
    {
      "cell_type": "code",
      "metadata": {
        "colab": {
          "base_uri": "https://localhost:8080/"
        },
        "id": "U-Ryt6IAkna3",
        "outputId": "9d3fff41-4905-4b76-8af7-0ff06744617e"
      },
      "source": [
        "#write a program to get largest number from a list\n",
        "list1=[5,7,8,10]          #list1=[] size=int(input('size of the list1')) for i in range(size): a=int(input('item of the list')) list1.append(a)\n",
        "max=list1[0]\n",
        "size=len(list1)\n",
        "print(size)\n",
        "for i in range(0,size):\n",
        "  if list1[i]>max:\n",
        "    max=list1[i]\n",
        "print(\"max number\",max)"
      ],
      "execution_count": null,
      "outputs": [
        {
          "output_type": "stream",
          "name": "stdout",
          "text": [
            "4\n",
            "max number 10\n"
          ]
        }
      ]
    },
    {
      "cell_type": "code",
      "metadata": {
        "colab": {
          "base_uri": "https://localhost:8080/"
        },
        "id": "-a88pB1DpJMd",
        "outputId": "c8a561df-a8ce-4799-c153-8fa1dd11dc36"
      },
      "source": [
        "#write a program to get smallest number from a list\n",
        "list1=[]\n",
        "size=int(input(\"size of the list1\"))\n",
        "for i in range(size):\n",
        "  a=int(input(\"item of the list1\"))\n",
        "  list1.append(a)\n",
        "print(list1)\n",
        "min=list1[0]\n",
        "for n in range(0,size):\n",
        "  if list1[n]<min:\n",
        "    min=list1[n]\n",
        "\n",
        "print(min)"
      ],
      "execution_count": null,
      "outputs": [
        {
          "output_type": "stream",
          "name": "stdout",
          "text": [
            "size of the list13\n",
            "item of the list1-7\n",
            "item of the list18\n",
            "item of the list1-9\n",
            "[-7, 8, -9]\n",
            "-9\n"
          ]
        }
      ]
    },
    {
      "cell_type": "code",
      "metadata": {
        "colab": {
          "base_uri": "https://localhost:8080/"
        },
        "id": "a6B9fc_CtbwL",
        "outputId": "0a73bc6d-58d2-48ba-f576-8cbeb2120eae"
      },
      "source": [
        "#Write a Python program to count the number of strings where the string length is 2 or more and the first and last character are same from a given list of strings.\n",
        "list2=['abc','xyz','aba','1221']\n",
        "count=0\n",
        "for i in list2:\n",
        "  if len(i)>2 and i[0]==i[-1]:\n",
        "     print(i)\n",
        "     count=count+1\n",
        "print(count)"
      ],
      "execution_count": null,
      "outputs": [
        {
          "output_type": "stream",
          "name": "stdout",
          "text": [
            "aba\n",
            "1221\n",
            "2\n"
          ]
        }
      ]
    },
    {
      "cell_type": "code",
      "metadata": {
        "id": "Nkpy3nOX9vEh",
        "colab": {
          "base_uri": "https://localhost:8080/"
        },
        "outputId": "c7077b88-2ff6-4795-834d-066c1089ade5"
      },
      "source": [
        "#write a python program to remove duplicates from a list\n",
        "a=[]\n",
        "size=int(input(\"size of the list\"))\n",
        "for i in range(0,size):\n",
        "  b=int(input(\"element of the a\"))\n",
        "  a.append(b)\n",
        "print(a)\n",
        "duplicates1=[]\n",
        "uniqitems1=[]\n",
        "for x in a:\n",
        "  if x not in duplicates1:\n",
        "    uniqitems1.append(x)\n",
        "    duplicates1.append(x)\n",
        "print(uniqitems1)\n"
      ],
      "execution_count": null,
      "outputs": [
        {
          "output_type": "stream",
          "name": "stdout",
          "text": [
            "size of the list10\n",
            "element of the a20\n",
            "element of the a20\n",
            "element of the a30\n",
            "element of the a40\n",
            "element of the a50\n",
            "element of the a50\n",
            "element of the a60\n",
            "element of the a70\n",
            "element of the a80\n",
            "element of the a90\n",
            "[20, 20, 30, 40, 50, 50, 60, 70, 80, 90]\n",
            "[20, 30, 40, 50, 60, 70, 80, 90]\n"
          ]
        }
      ]
    },
    {
      "cell_type": "code",
      "metadata": {
        "colab": {
          "base_uri": "https://localhost:8080/"
        },
        "id": "GlUb-pxIWZzg",
        "outputId": "7f7e5acc-7d6b-432e-b88f-391b216223a8"
      },
      "source": [
        "#write a python program to check a list is empty or not\n",
        "a=[]\n",
        "size=int(input(\"size of the list\"))\n",
        "for i in range(0,size):\n",
        "  b=int(input(\"element of the a\"))\n",
        "  a.append(b)\n",
        "print(a)\n",
        "if not a:\n",
        "    print(\"empty\")\n",
        "else:\n",
        "    print(\"not empty\")"
      ],
      "execution_count": null,
      "outputs": [
        {
          "output_type": "stream",
          "name": "stdout",
          "text": [
            "size of the list0\n",
            "[]\n",
            "empty\n"
          ]
        }
      ]
    },
    {
      "cell_type": "code",
      "metadata": {
        "id": "JBMrs9cxcr0b",
        "colab": {
          "base_uri": "https://localhost:8080/"
        },
        "outputId": "66a68f3f-0864-4b6a-d2b7-d2a1b0069234"
      },
      "source": [
        "#write a python program to clone or copy a list\n",
        "a=[]\n",
        "size=int(input(\"size of the list\"))\n",
        "for i in range(0,size):\n",
        "  b=int(input(\"element of the a\"))\n",
        "  a.append(b)\n",
        "print(a)\n",
        "clonelist=list(a)\n",
        "print(\"clonelist=\",clonelist)"
      ],
      "execution_count": null,
      "outputs": [
        {
          "output_type": "stream",
          "name": "stdout",
          "text": [
            "size of the list4\n",
            "element of the a12\n",
            "element of the a13\n",
            "element of the a14\n",
            "element of the a15\n",
            "[12, 13, 14, 15]\n",
            "clonelist= [12, 13, 14, 15]\n"
          ]
        }
      ]
    },
    {
      "cell_type": "code",
      "metadata": {
        "colab": {
          "base_uri": "https://localhost:8080/"
        },
        "id": "qBivFYayxgll",
        "outputId": "4e1f2d51-91f7-4ac4-9006-63d454f0056e"
      },
      "source": [
        "#Write a Python program to find the list of words that are longer than n from a given list of words\n",
        "def long_words(n,str):\n",
        "  wordlist=[]\n",
        "  txt = str.split(\" \")\n",
        "  print(txt)\n",
        "  for x in txt:\n",
        "    if len(x) > n:\n",
        "      print(x)\n",
        "      wordlist.append(x)\n",
        "  return wordlist\n",
        "print(long_words(3,\"the brown girl has so nice looking posture\"))"
      ],
      "execution_count": null,
      "outputs": [
        {
          "output_type": "stream",
          "name": "stdout",
          "text": [
            "['the', 'brown', 'girl', 'has', 'so', 'nice', 'looking', 'posture']\n",
            "brown\n",
            "girl\n",
            "nice\n",
            "looking\n",
            "posture\n",
            "['brown', 'girl', 'nice', 'looking', 'posture']\n"
          ]
        }
      ]
    },
    {
      "cell_type": "code",
      "metadata": {
        "colab": {
          "base_uri": "https://localhost:8080/"
        },
        "id": "AZO5RXuO0_Yd",
        "outputId": "59eb71ca-c626-4164-856f-bbbed4ba1432"
      },
      "source": [
        "#Write a Python function that takes two lists and returns True if they have at least one common member.\n",
        "def function(list1,list2):\n",
        "  result=False\n",
        "  for x in list1:\n",
        "    for y in list2:\n",
        "      if x==y:\n",
        "        result=True\n",
        "        return result\n",
        "        \n",
        "print(function([1,2,3,4,5],[4,5,8,7,9,8]))"
      ],
      "execution_count": null,
      "outputs": [
        {
          "output_type": "stream",
          "name": "stdout",
          "text": [
            "True\n"
          ]
        }
      ]
    },
    {
      "cell_type": "code",
      "metadata": {
        "colab": {
          "base_uri": "https://localhost:8080/",
          "height": 262
        },
        "id": "PLl-cwoa6avh",
        "outputId": "7a0b71f4-8319-4840-87d2-7ae440ba2a05"
      },
      "source": [
        "#Write a Python program to print a specified list after removing the 0th, 4th and 5th elements.\n",
        "list1=[2,5,6,7,8,9]\n",
        "#list1.remove(list1[0])\n",
        "#list1.remove(list1[3])\n",
        "#list1.remove(list1[3])\n",
        "for i in range(len(list1)):\n",
        "   if i in (0,4,5):\n",
        "      list1.remove(list1[i])\n",
        "      print(list1)\n",
        "   \n",
        "    \n",
        "\n"
      ],
      "execution_count": null,
      "outputs": [
        {
          "output_type": "stream",
          "name": "stdout",
          "text": [
            "[5, 6, 7, 8, 9]\n",
            "[5, 6, 7, 8]\n"
          ]
        },
        {
          "output_type": "error",
          "ename": "IndexError",
          "evalue": "ignored",
          "traceback": [
            "\u001b[0;31m---------------------------------------------------------------------------\u001b[0m",
            "\u001b[0;31mIndexError\u001b[0m                                Traceback (most recent call last)",
            "\u001b[0;32m<ipython-input-11-5cf1d38f810d>\u001b[0m in \u001b[0;36m<module>\u001b[0;34m()\u001b[0m\n\u001b[1;32m      6\u001b[0m \u001b[0;32mfor\u001b[0m \u001b[0mi\u001b[0m \u001b[0;32min\u001b[0m \u001b[0mrange\u001b[0m\u001b[0;34m(\u001b[0m\u001b[0mlen\u001b[0m\u001b[0;34m(\u001b[0m\u001b[0mlist1\u001b[0m\u001b[0;34m)\u001b[0m\u001b[0;34m)\u001b[0m\u001b[0;34m:\u001b[0m\u001b[0;34m\u001b[0m\u001b[0;34m\u001b[0m\u001b[0m\n\u001b[1;32m      7\u001b[0m    \u001b[0;32mif\u001b[0m \u001b[0mi\u001b[0m \u001b[0;32min\u001b[0m \u001b[0;34m(\u001b[0m\u001b[0;36m0\u001b[0m\u001b[0;34m,\u001b[0m\u001b[0;36m4\u001b[0m\u001b[0;34m,\u001b[0m\u001b[0;36m5\u001b[0m\u001b[0;34m)\u001b[0m\u001b[0;34m:\u001b[0m\u001b[0;34m\u001b[0m\u001b[0;34m\u001b[0m\u001b[0m\n\u001b[0;32m----> 8\u001b[0;31m       \u001b[0mlist1\u001b[0m\u001b[0;34m.\u001b[0m\u001b[0mremove\u001b[0m\u001b[0;34m(\u001b[0m\u001b[0mlist1\u001b[0m\u001b[0;34m[\u001b[0m\u001b[0mi\u001b[0m\u001b[0;34m]\u001b[0m\u001b[0;34m)\u001b[0m\u001b[0;34m\u001b[0m\u001b[0;34m\u001b[0m\u001b[0m\n\u001b[0m\u001b[1;32m      9\u001b[0m       \u001b[0mprint\u001b[0m\u001b[0;34m(\u001b[0m\u001b[0mlist1\u001b[0m\u001b[0;34m)\u001b[0m\u001b[0;34m\u001b[0m\u001b[0;34m\u001b[0m\u001b[0m\n\u001b[1;32m     10\u001b[0m \u001b[0;34m\u001b[0m\u001b[0m\n",
            "\u001b[0;31mIndexError\u001b[0m: list index out of range"
          ]
        }
      ]
    },
    {
      "cell_type": "code",
      "metadata": {
        "id": "j9SOi-Hm8Sg7",
        "colab": {
          "base_uri": "https://localhost:8080/"
        },
        "outputId": "f8c69194-2345-4ee1-f81b-480f727776a9"
      },
      "source": [
        "#Write a Python program to generate a 3*4*6 3D array whose each element is *.\n",
        "array=[[['*' for col in range(6)]for col in range(4)]for col in range(3)]\n",
        "print(array)"
      ],
      "execution_count": null,
      "outputs": [
        {
          "output_type": "stream",
          "name": "stdout",
          "text": [
            "[[['*', '*', '*', '*', '*', '*'], ['*', '*', '*', '*', '*', '*'], ['*', '*', '*', '*', '*', '*'], ['*', '*', '*', '*', '*', '*']], [['*', '*', '*', '*', '*', '*'], ['*', '*', '*', '*', '*', '*'], ['*', '*', '*', '*', '*', '*'], ['*', '*', '*', '*', '*', '*']], [['*', '*', '*', '*', '*', '*'], ['*', '*', '*', '*', '*', '*'], ['*', '*', '*', '*', '*', '*'], ['*', '*', '*', '*', '*', '*']]]\n"
          ]
        }
      ]
    },
    {
      "cell_type": "code",
      "metadata": {
        "id": "AyUgtBJoxGYS",
        "colab": {
          "base_uri": "https://localhost:8080/"
        },
        "outputId": "90f7e8b5-fd6d-4176-e261-35b433c06c28"
      },
      "source": [
        "array1=[[['*' for col in range(6)]for col in range(4)]for row in range(2)]\n",
        "array1"
      ],
      "execution_count": null,
      "outputs": [
        {
          "output_type": "execute_result",
          "data": {
            "text/plain": [
              "[[['*', '*', '*', '*', '*', '*'],\n",
              "  ['*', '*', '*', '*', '*', '*'],\n",
              "  ['*', '*', '*', '*', '*', '*'],\n",
              "  ['*', '*', '*', '*', '*', '*']],\n",
              " [['*', '*', '*', '*', '*', '*'],\n",
              "  ['*', '*', '*', '*', '*', '*'],\n",
              "  ['*', '*', '*', '*', '*', '*'],\n",
              "  ['*', '*', '*', '*', '*', '*']]]"
            ]
          },
          "metadata": {},
          "execution_count": 13
        }
      ]
    },
    {
      "cell_type": "code",
      "metadata": {
        "colab": {
          "base_uri": "https://localhost:8080/"
        },
        "id": "kvRf7gR58RW3",
        "outputId": "1e239b00-b6d1-49d8-e878-546b3ea68e5f"
      },
      "source": [
        "#Write a Python program to print the numbers of a specified list after removing even numbers from it.\n",
        "a=[2,4,6,7,9,14]\n",
        "b=[]\n",
        "for i in a:\n",
        "  if i%2==0:\n",
        "    b.append(i)\n",
        "print(b)  \n"
      ],
      "execution_count": null,
      "outputs": [
        {
          "output_type": "stream",
          "name": "stdout",
          "text": [
            "[2, 4, 6, 14]\n"
          ]
        }
      ]
    },
    {
      "cell_type": "code",
      "metadata": {
        "colab": {
          "base_uri": "https://localhost:8080/"
        },
        "id": "CGqy0e2v9mHO",
        "outputId": "5474221c-c2b1-42cc-fa1e-c0b9d21c30f3"
      },
      "source": [
        "#Write a Python program to shuffle and print a specified list.\n",
        "from random import shuffle\n",
        "color=['green','blue','yellow','white']\n",
        "shuffle(color)\n",
        "print(color)\n",
        "\n",
        "\n",
        "from random import shuffle\n",
        "numbers=[0,6,8,5,4,3,7]\n",
        "shuffle(numbers)\n",
        "print(numbers)\n",
        "\n",
        "\n"
      ],
      "execution_count": null,
      "outputs": [
        {
          "output_type": "stream",
          "name": "stdout",
          "text": [
            "['green', 'blue', 'white', 'yellow']\n",
            "[6, 8, 5, 0, 4, 3, 7]\n"
          ]
        }
      ]
    },
    {
      "cell_type": "code",
      "metadata": {
        "id": "crJ-937NAV0u",
        "colab": {
          "base_uri": "https://localhost:8080/"
        },
        "outputId": "09f59a9d-65b8-41ca-809b-b0bb4a73a3ca"
      },
      "source": [
        "#Write a Python program to generate and print a list except for the first 5 elements, where the values are square of numbers between 1 and 30\n",
        "l=[]\n",
        "for i in range(1,31):\n",
        "  l.append(i**2)\n",
        "print(l[5:])"
      ],
      "execution_count": null,
      "outputs": [
        {
          "output_type": "stream",
          "name": "stdout",
          "text": [
            "[36, 49, 64, 81, 100, 121, 144, 169, 196, 225, 256, 289, 324, 361, 400, 441, 484, 529, 576, 625, 676, 729, 784, 841, 900]\n"
          ]
        }
      ]
    },
    {
      "cell_type": "code",
      "metadata": {
        "colab": {
          "base_uri": "https://localhost:8080/"
        },
        "id": "9CGiYJMAC5_q",
        "outputId": "c62cb8cb-12b1-4017-9794-771b2d3164a2"
      },
      "source": [
        "#Write a Python program to generate all permutations of a list in Python.\n",
        "import itertools\n",
        "print(list(itertools.permutations([1,2,3])))"
      ],
      "execution_count": null,
      "outputs": [
        {
          "output_type": "stream",
          "name": "stdout",
          "text": [
            "[(1, 2, 3), (1, 3, 2), (2, 1, 3), (2, 3, 1), (3, 1, 2), (3, 2, 1)]\n"
          ]
        }
      ]
    },
    {
      "cell_type": "code",
      "metadata": {
        "colab": {
          "base_uri": "https://localhost:8080/",
          "height": 246
        },
        "id": "mFt065uGD2Tj",
        "outputId": "44d1a0b5-f63d-4802-b673-91e68b6f23df"
      },
      "source": [
        "#Write a Python program to get the difference between the two lists\n",
        "a=[2,4,8,8,10]\n",
        "b=[4,6,8,10,13]\n",
        "c=[]\n",
        "count=0\n",
        "for i in range(0,6):\n",
        "  for j in range(0,6):\n",
        "    if j==i:\n",
        "      d=b[j]-a[i]\n",
        "      c.append(d)\n",
        "      count=count+1\n",
        "      if count==5:\n",
        "         print(c)\n",
        "    "
      ],
      "execution_count": null,
      "outputs": [
        {
          "output_type": "stream",
          "name": "stdout",
          "text": [
            "[2, 2, 0, 2, 3]\n"
          ]
        },
        {
          "output_type": "error",
          "ename": "IndexError",
          "evalue": "ignored",
          "traceback": [
            "\u001b[0;31m---------------------------------------------------------------------------\u001b[0m",
            "\u001b[0;31mIndexError\u001b[0m                                Traceback (most recent call last)",
            "\u001b[0;32m<ipython-input-12-67cb250ea9e0>\u001b[0m in \u001b[0;36m<module>\u001b[0;34m()\u001b[0m\n\u001b[1;32m      7\u001b[0m   \u001b[0;32mfor\u001b[0m \u001b[0mj\u001b[0m \u001b[0;32min\u001b[0m \u001b[0mrange\u001b[0m\u001b[0;34m(\u001b[0m\u001b[0;36m0\u001b[0m\u001b[0;34m,\u001b[0m\u001b[0;36m6\u001b[0m\u001b[0;34m)\u001b[0m\u001b[0;34m:\u001b[0m\u001b[0;34m\u001b[0m\u001b[0;34m\u001b[0m\u001b[0m\n\u001b[1;32m      8\u001b[0m     \u001b[0;32mif\u001b[0m \u001b[0mj\u001b[0m\u001b[0;34m==\u001b[0m\u001b[0mi\u001b[0m\u001b[0;34m:\u001b[0m\u001b[0;34m\u001b[0m\u001b[0;34m\u001b[0m\u001b[0m\n\u001b[0;32m----> 9\u001b[0;31m       \u001b[0md\u001b[0m\u001b[0;34m=\u001b[0m\u001b[0mb\u001b[0m\u001b[0;34m[\u001b[0m\u001b[0mj\u001b[0m\u001b[0;34m]\u001b[0m\u001b[0;34m-\u001b[0m\u001b[0ma\u001b[0m\u001b[0;34m[\u001b[0m\u001b[0mi\u001b[0m\u001b[0;34m]\u001b[0m\u001b[0;34m\u001b[0m\u001b[0;34m\u001b[0m\u001b[0m\n\u001b[0m\u001b[1;32m     10\u001b[0m       \u001b[0mc\u001b[0m\u001b[0;34m.\u001b[0m\u001b[0mappend\u001b[0m\u001b[0;34m(\u001b[0m\u001b[0md\u001b[0m\u001b[0;34m)\u001b[0m\u001b[0;34m\u001b[0m\u001b[0;34m\u001b[0m\u001b[0m\n\u001b[1;32m     11\u001b[0m       \u001b[0mcount\u001b[0m\u001b[0;34m=\u001b[0m\u001b[0mcount\u001b[0m\u001b[0;34m+\u001b[0m\u001b[0;36m1\u001b[0m\u001b[0;34m\u001b[0m\u001b[0;34m\u001b[0m\u001b[0m\n",
            "\u001b[0;31mIndexError\u001b[0m: list index out of range"
          ]
        }
      ]
    },
    {
      "cell_type": "code",
      "metadata": {
        "colab": {
          "base_uri": "https://localhost:8080/"
        },
        "id": "mjuc_6-WEayb",
        "outputId": "ff708cfa-4024-4ed4-a70e-e2f50477ff70"
      },
      "source": [
        "a=[2,4,6,8,10]\n",
        "b=[4,6,8,10,13]\n",
        "c=set(a)\n",
        "d=set(b)\n",
        "print(d)\n",
        "print(c)\n",
        "diff_a_b=set(a) - set(b)\n",
        "diff_b_a=set(b) - set(a)\n",
        "e=list(diff_a_b)\n",
        "f=list(diff_b_a)\n",
        "print(e)\n",
        "print(f)\n",
        "total_diff=e+f\n",
        "print(total_diff)"
      ],
      "execution_count": null,
      "outputs": [
        {
          "output_type": "stream",
          "name": "stdout",
          "text": [
            "{4, 6, 8, 10, 13}\n",
            "{2, 4, 6, 8, 10}\n",
            "[2]\n",
            "[13]\n",
            "[2, 13]\n"
          ]
        }
      ]
    },
    {
      "cell_type": "code",
      "metadata": {
        "colab": {
          "base_uri": "https://localhost:8080/"
        },
        "id": "5r1X7Wa0HolW",
        "outputId": "4ccaa372-73b0-48c2-e311-2d5329352949"
      },
      "source": [
        "#Write a Python program access the index of a list.\n",
        "a=[2,3,6,8,10]\n",
        "for num_index,num_val in enumerate(a):\n",
        "  print(num_index,num_val)\n",
        "\n",
        "b=[5,6,8,12,47]\n",
        "for c,d in enumerate(b):\n",
        "  print(c,d)"
      ],
      "execution_count": null,
      "outputs": [
        {
          "output_type": "stream",
          "name": "stdout",
          "text": [
            "0 2\n",
            "1 3\n",
            "2 6\n",
            "3 8\n",
            "4 10\n",
            "0 5\n",
            "1 6\n",
            "2 8\n",
            "3 12\n",
            "4 47\n"
          ]
        }
      ]
    },
    {
      "cell_type": "code",
      "metadata": {
        "colab": {
          "base_uri": "https://localhost:8080/"
        },
        "id": "mXW7H83NLri_",
        "outputId": "a91f6506-a26a-47ef-98d7-d9258bcdc6fd"
      },
      "source": [
        "#Write a Python program to convert a list of characters into a string.\n",
        "a=['my','name','is','akash']\n",
        "str1=' '.join(a)\n",
        "print(str1)\n",
        "\n",
        "c=['I','live','in','Dhaka']\n",
        "str2=' '.join(c)\n",
        "print(str2)"
      ],
      "execution_count": null,
      "outputs": [
        {
          "output_type": "stream",
          "name": "stdout",
          "text": [
            "my name is akash\n",
            "I live in Dhaka\n"
          ]
        }
      ]
    },
    {
      "cell_type": "code",
      "metadata": {
        "id": "Nu5cPInRMh8G"
      },
      "source": [],
      "execution_count": null,
      "outputs": []
    }
  ]
}