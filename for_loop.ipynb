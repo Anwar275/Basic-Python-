{
  "nbformat": 4,
  "nbformat_minor": 0,
  "metadata": {
    "colab": {
      "provenance": []
    },
    "kernelspec": {
      "name": "python3",
      "display_name": "Python 3"
    },
    "language_info": {
      "name": "python"
    }
  },
  "cells": [
    {
      "cell_type": "markdown",
      "metadata": {
        "id": "xm13Yr_2qhW6"
      },
      "source": [
        "for loop"
      ]
    },
    {
      "cell_type": "code",
      "metadata": {
        "colab": {
          "base_uri": "https://localhost:8080/"
        },
        "id": "qSbxwqaOqkdq",
        "outputId": "dcbf5d9a-555b-4263-b95b-738cd1e719d1"
      },
      "source": [
        "a=int(input(\"number\"))\n",
        "if a%13==0:\n",
        "  print(\"true\")\n",
        "else:\n",
        "  print(\"false\")  "
      ],
      "execution_count": null,
      "outputs": [
        {
          "output_type": "stream",
          "name": "stdout",
          "text": [
            "number26\n",
            "true\n"
          ]
        }
      ]
    },
    {
      "cell_type": "code",
      "metadata": {
        "colab": {
          "base_uri": "https://localhost:8080/"
        },
        "id": "1fZwFemCq7Ku",
        "outputId": "cd0f045f-b08b-4143-82d1-04b362965cb0"
      },
      "source": [
        "for i in range(0,100):\n",
        "  if i%13==0:\n",
        "    print(\"true\")\n",
        "  else:\n",
        "    print(\"false\")"
      ],
      "execution_count": null,
      "outputs": [
        {
          "output_type": "stream",
          "name": "stdout",
          "text": [
            "true\n",
            "false\n",
            "false\n",
            "false\n",
            "false\n",
            "false\n",
            "false\n",
            "false\n",
            "false\n",
            "false\n",
            "false\n",
            "false\n",
            "false\n",
            "true\n",
            "false\n",
            "false\n",
            "false\n",
            "false\n",
            "false\n",
            "false\n",
            "false\n",
            "false\n",
            "false\n",
            "false\n",
            "false\n",
            "false\n",
            "true\n",
            "false\n",
            "false\n",
            "false\n",
            "false\n",
            "false\n",
            "false\n",
            "false\n",
            "false\n",
            "false\n",
            "false\n",
            "false\n",
            "false\n",
            "true\n",
            "false\n",
            "false\n",
            "false\n",
            "false\n",
            "false\n",
            "false\n",
            "false\n",
            "false\n",
            "false\n",
            "false\n",
            "false\n",
            "false\n",
            "true\n",
            "false\n",
            "false\n",
            "false\n",
            "false\n",
            "false\n",
            "false\n",
            "false\n",
            "false\n",
            "false\n",
            "false\n",
            "false\n",
            "false\n",
            "true\n",
            "false\n",
            "false\n",
            "false\n",
            "false\n",
            "false\n",
            "false\n",
            "false\n",
            "false\n",
            "false\n",
            "false\n",
            "false\n",
            "false\n",
            "true\n",
            "false\n",
            "false\n",
            "false\n",
            "false\n",
            "false\n",
            "false\n",
            "false\n",
            "false\n",
            "false\n",
            "false\n",
            "false\n",
            "false\n",
            "true\n",
            "false\n",
            "false\n",
            "false\n",
            "false\n",
            "false\n",
            "false\n",
            "false\n",
            "false\n"
          ]
        }
      ]
    },
    {
      "cell_type": "code",
      "metadata": {
        "colab": {
          "base_uri": "https://localhost:8080/"
        },
        "id": "h7LrSz3Vr8w7",
        "outputId": "b23cecc4-9662-41bf-f5e9-5092e4901fc9"
      },
      "source": [
        "list1=[]\n",
        "for i in range(1,29):\n",
        "  if i%13==0:\n",
        "    print(i)\n",
        "  else:\n",
        "    print(\"can't be divided\")"
      ],
      "execution_count": null,
      "outputs": [
        {
          "output_type": "stream",
          "name": "stdout",
          "text": [
            "can't be divided\n",
            "can't be divided\n",
            "can't be divided\n",
            "can't be divided\n",
            "can't be divided\n",
            "can't be divided\n",
            "can't be divided\n",
            "can't be divided\n",
            "can't be divided\n",
            "can't be divided\n",
            "can't be divided\n",
            "can't be divided\n",
            "13\n",
            "can't be divided\n",
            "can't be divided\n",
            "can't be divided\n",
            "can't be divided\n",
            "can't be divided\n",
            "can't be divided\n",
            "can't be divided\n",
            "can't be divided\n",
            "can't be divided\n",
            "can't be divided\n",
            "can't be divided\n",
            "can't be divided\n",
            "26\n",
            "can't be divided\n",
            "can't be divided\n"
          ]
        }
      ]
    },
    {
      "cell_type": "code",
      "metadata": {
        "id": "7lfDMu1DuA60"
      },
      "source": [],
      "execution_count": null,
      "outputs": []
    },
    {
      "cell_type": "markdown",
      "metadata": {
        "id": "mYAN1ScmANmd"
      },
      "source": [
        "write a code to find numbers between 0 to 29 which are divisible by 13 "
      ]
    },
    {
      "cell_type": "code",
      "metadata": {
        "colab": {
          "base_uri": "https://localhost:8080/"
        },
        "id": "_NmNMpFfuC_6",
        "outputId": "c25c06b1-a761-407a-c6c2-b277a3d9896c"
      },
      "source": [
        "a=int(input())\n",
        "\n",
        "count=0\n",
        "\n",
        "for i in range(0,100):\n",
        "  if i%13==0:\n",
        "    print(i)\n",
        "    count=count+1\n",
        "    print(\"count\",count)\n",
        "  if count>=a:\n",
        "    break"
      ],
      "execution_count": null,
      "outputs": [
        {
          "output_type": "stream",
          "name": "stdout",
          "text": [
            "5\n",
            "0\n",
            "count 1\n",
            "13\n",
            "count 2\n",
            "26\n",
            "count 3\n",
            "39\n",
            "count 4\n",
            "52\n",
            "count 5\n"
          ]
        }
      ]
    },
    {
      "cell_type": "markdown",
      "metadata": {
        "id": "N678-9loAns5"
      },
      "source": [
        "let's find 153 is armstrong or not."
      ]
    },
    {
      "cell_type": "code",
      "metadata": {
        "id": "_2BA3k_KxtTV",
        "colab": {
          "base_uri": "https://localhost:8080/"
        },
        "outputId": "d0f1708a-52f7-4bef-ee2a-db81355aa8e0"
      },
      "source": [
        "n='153'\n",
        "sum=0\n",
        "for i in n:\n",
        "  i=int(i)**3\n",
        "  print(i)\n",
        "  sum=sum+i\n",
        "if sum==int(n):\n",
        "   print(\"Armstrong\")\n",
        "else:\n",
        "    print('not')"
      ],
      "execution_count": null,
      "outputs": [
        {
          "output_type": "stream",
          "name": "stdout",
          "text": [
            "1\n",
            "125\n",
            "27\n",
            "Armstrong\n"
          ]
        }
      ]
    },
    {
      "cell_type": "markdown",
      "metadata": {
        "id": "DNoiZ54QA3nV"
      },
      "source": [
        "let's check a number is armstrong or not"
      ]
    },
    {
      "cell_type": "code",
      "metadata": {
        "id": "2M51kGGVurvF",
        "colab": {
          "base_uri": "https://localhost:8080/"
        },
        "outputId": "b1c4f67b-7324-4ef8-bf13-47d1fa9c4158"
      },
      "source": [
        "a=str(input())\n",
        "sum=0\n",
        "for i in a:\n",
        "  print(i)\n",
        "  i=int(i)**3\n",
        "  sum=sum+i\n",
        "if sum==int(a):\n",
        "    print('Armstrong')\n",
        "else:\n",
        "    print('not')"
      ],
      "execution_count": null,
      "outputs": [
        {
          "output_type": "stream",
          "name": "stdout",
          "text": [
            "153\n",
            "1\n",
            "5\n",
            "3\n",
            "Armstrong\n"
          ]
        }
      ]
    },
    {
      "cell_type": "markdown",
      "metadata": {
        "id": "o4qbRTyxCMZX"
      },
      "source": [
        "let's find the armstrong numbers in a range of 1 to 500"
      ]
    },
    {
      "cell_type": "code",
      "metadata": {
        "colab": {
          "base_uri": "https://localhost:8080/"
        },
        "id": "xMAbrJ4omg9G",
        "outputId": "6f7ea21e-f076-4953-d994-c26ede233772"
      },
      "source": [
        "b=range(1,500)\n",
        "count=0\n",
        "total=int(input())\n",
        "for i in b:\n",
        "  sum=0\n",
        "  for n in str(i):\n",
        "    n=int(n)**3\n",
        "    sum=sum+n\n",
        "  if sum==int(i):\n",
        "    print(sum,'the number is armstrong')\n",
        "    count=count+1\n",
        "  if count>=total:\n",
        "    break\n"
      ],
      "execution_count": null,
      "outputs": [
        {
          "output_type": "stream",
          "name": "stdout",
          "text": [
            "3\n",
            "1 the number is armstrong\n",
            "153 the number is armstrong\n",
            "370 the number is armstrong\n"
          ]
        }
      ]
    },
    {
      "cell_type": "code",
      "metadata": {
        "colab": {
          "base_uri": "https://localhost:8080/"
        },
        "id": "HplfgIpnt8U2",
        "outputId": "0acaedf4-d459-4291-fb71-d5f85d7d4330"
      },
      "source": [
        "c=range(1,500)\n",
        "total=int(input())\n",
        "count=0\n",
        "for i in c:\n",
        "  sum=0\n",
        "  for n in str(i):\n",
        "    n=int(n)**3\n",
        "    sum=sum+n\n",
        "  if sum==int(i):\n",
        "    print(sum,'the number is armstrong')\n",
        "    count=count+1\n",
        "  if count>=total:\n",
        "    break"
      ],
      "execution_count": null,
      "outputs": [
        {
          "output_type": "stream",
          "name": "stdout",
          "text": [
            "5\n",
            "1 the number is armstrong\n",
            "153 the number is armstrong\n",
            "370 the number is armstrong\n",
            "371 the number is armstrong\n",
            "407 the number is armstrong\n"
          ]
        }
      ]
    },
    {
      "cell_type": "code",
      "metadata": {
        "colab": {
          "base_uri": "https://localhost:8080/"
        },
        "id": "MlJUZNRF2kit",
        "outputId": "067bed6c-d320-49e7-c265-5c8173d670d8"
      },
      "source": [
        "d=range(2,5000)\n",
        "count=0\n",
        "total=int(input())\n",
        "for i in d:\n",
        "  sum=0\n",
        "  for n in str(i):\n",
        "    n=int(n)**3\n",
        "    sum=sum+n\n",
        "  if sum==int(i):\n",
        "    print(sum,'the number is armstrong')\n",
        "    count=count+1\n",
        "  if count>=total:\n",
        "    break"
      ],
      "execution_count": null,
      "outputs": [
        {
          "output_type": "stream",
          "name": "stdout",
          "text": [
            "10\n",
            "153 the number is armstrong\n",
            "370 the number is armstrong\n",
            "371 the number is armstrong\n",
            "407 the number is armstrong\n"
          ]
        }
      ]
    },
    {
      "cell_type": "code",
      "metadata": {
        "colab": {
          "base_uri": "https://localhost:8080/"
        },
        "id": "uU6WhoOy5Rq6",
        "outputId": "ca4bf12c-f592-48f5-aceb-57e852bb2bbb"
      },
      "source": [
        "for i in range(0,5):\n",
        "  print(i)"
      ],
      "execution_count": null,
      "outputs": [
        {
          "output_type": "stream",
          "name": "stdout",
          "text": [
            "0\n",
            "1\n",
            "2\n",
            "3\n",
            "4\n"
          ]
        }
      ]
    },
    {
      "cell_type": "code",
      "metadata": {
        "colab": {
          "base_uri": "https://localhost:8080/"
        },
        "id": "R7vu_6kR7KcT",
        "outputId": "20a3c170-ab4f-4291-b01a-66ee4333d7f8"
      },
      "source": [
        "i=0\n",
        "while(i<5):\n",
        "  print(i)\n",
        "  i=i+1   #i+=1"
      ],
      "execution_count": null,
      "outputs": [
        {
          "output_type": "stream",
          "name": "stdout",
          "text": [
            "0\n",
            "1\n",
            "2\n",
            "3\n",
            "4\n"
          ]
        }
      ]
    },
    {
      "cell_type": "code",
      "metadata": {
        "colab": {
          "base_uri": "https://localhost:8080/"
        },
        "id": "FjSazVhC7V4x",
        "outputId": "5fef3c3f-0a05-490f-d528-54287cf7ccb0"
      },
      "source": [
        "count=0\n",
        "total=int(input())\n",
        "for i in range(1,100):\n",
        "  if i%13==0:\n",
        "    print(i)\n",
        "    count=count+1\n",
        "  if count>=total:\n",
        "    break\n"
      ],
      "execution_count": null,
      "outputs": [
        {
          "output_type": "stream",
          "name": "stdout",
          "text": [
            "5\n",
            "13\n",
            "26\n",
            "39\n",
            "52\n",
            "65\n"
          ]
        }
      ]
    },
    {
      "cell_type": "code",
      "metadata": {
        "colab": {
          "base_uri": "https://localhost:8080/"
        },
        "id": "VgB9GBAc9NnJ",
        "outputId": "fc6cbe50-2c9d-4dea-a2d8-0f12cc5b2455"
      },
      "source": [
        "i=1\n",
        "count=0\n",
        "while(count<5):\n",
        "  if i%13==0:\n",
        "    print(i)\n",
        "    count=count+1\n",
        "  i=i+1"
      ],
      "execution_count": null,
      "outputs": [
        {
          "output_type": "stream",
          "name": "stdout",
          "text": [
            "13\n",
            "26\n",
            "39\n",
            "52\n",
            "65\n"
          ]
        }
      ]
    },
    {
      "cell_type": "code",
      "metadata": {
        "colab": {
          "base_uri": "https://localhost:8080/"
        },
        "id": "j8iOX0AN9uUh",
        "outputId": "fb1a32ba-ff4e-4351-f770-3d78fdb682d1"
      },
      "source": [
        "n=int(input('lower value'))\n",
        "m=int(input('upper value'))\n",
        "for i in range(n,m+1):\n",
        "  if i>1:\n",
        "    for a in range(2,i):\n",
        "      if i%a==0:\n",
        "        break\n",
        "    else:\n",
        "      print(i)"
      ],
      "execution_count": null,
      "outputs": [
        {
          "output_type": "stream",
          "name": "stdout",
          "text": [
            "lower value3\n",
            "upper value6\n",
            "3\n",
            "5\n"
          ]
        }
      ]
    },
    {
      "cell_type": "code",
      "metadata": {
        "id": "zWO_xF5tC67L",
        "colab": {
          "base_uri": "https://localhost:8080/",
          "height": 279
        },
        "outputId": "ca886bb0-0675-4602-8c7f-59ecb6c1bbe8"
      },
      "source": [
        "i=2\n",
        "f=0\n",
        "n=int(input('lower number'))\n",
        "m=int(input('upper number'))\n",
        "b=range(n,m+1)\n",
        "total=int(input())\n",
        "count=0\n",
        "while(i<b):\n",
        "  if i%b==0:\n",
        "    f=1\n",
        "    break\n",
        "  i=i+1\n",
        "if f==0:\n",
        "  print('prime number')\n",
        "else:\n",
        "  print('not a prime number')\n"
      ],
      "execution_count": null,
      "outputs": [
        {
          "name": "stdout",
          "output_type": "stream",
          "text": [
            "lower number5\n",
            "upper number15\n",
            "4\n"
          ]
        },
        {
          "output_type": "error",
          "ename": "TypeError",
          "evalue": "ignored",
          "traceback": [
            "\u001b[0;31m---------------------------------------------------------------------------\u001b[0m",
            "\u001b[0;31mTypeError\u001b[0m                                 Traceback (most recent call last)",
            "\u001b[0;32m<ipython-input-2-b0e86b5f9247>\u001b[0m in \u001b[0;36m<module>\u001b[0;34m()\u001b[0m\n\u001b[1;32m      6\u001b[0m \u001b[0mtotal\u001b[0m\u001b[0;34m=\u001b[0m\u001b[0mint\u001b[0m\u001b[0;34m(\u001b[0m\u001b[0minput\u001b[0m\u001b[0;34m(\u001b[0m\u001b[0;34m)\u001b[0m\u001b[0;34m)\u001b[0m\u001b[0;34m\u001b[0m\u001b[0;34m\u001b[0m\u001b[0m\n\u001b[1;32m      7\u001b[0m \u001b[0mcount\u001b[0m\u001b[0;34m=\u001b[0m\u001b[0;36m0\u001b[0m\u001b[0;34m\u001b[0m\u001b[0;34m\u001b[0m\u001b[0m\n\u001b[0;32m----> 8\u001b[0;31m \u001b[0;32mwhile\u001b[0m\u001b[0;34m(\u001b[0m\u001b[0mi\u001b[0m\u001b[0;34m<\u001b[0m\u001b[0mb\u001b[0m\u001b[0;34m)\u001b[0m\u001b[0;34m:\u001b[0m\u001b[0;34m\u001b[0m\u001b[0;34m\u001b[0m\u001b[0m\n\u001b[0m\u001b[1;32m      9\u001b[0m   \u001b[0;32mif\u001b[0m \u001b[0mi\u001b[0m\u001b[0;34m%\u001b[0m\u001b[0mb\u001b[0m\u001b[0;34m==\u001b[0m\u001b[0;36m0\u001b[0m\u001b[0;34m:\u001b[0m\u001b[0;34m\u001b[0m\u001b[0;34m\u001b[0m\u001b[0m\n\u001b[1;32m     10\u001b[0m     \u001b[0mf\u001b[0m\u001b[0;34m=\u001b[0m\u001b[0;36m1\u001b[0m\u001b[0;34m\u001b[0m\u001b[0;34m\u001b[0m\u001b[0m\n",
            "\u001b[0;31mTypeError\u001b[0m: '<' not supported between instances of 'int' and 'range'"
          ]
        }
      ]
    },
    {
      "cell_type": "code",
      "metadata": {
        "id": "n5Ch6ZyqzeM7"
      },
      "source": [],
      "execution_count": null,
      "outputs": []
    }
  ]
}